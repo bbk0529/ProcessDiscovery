{
 "cells": [
  {
   "cell_type": "code",
   "execution_count": 1,
   "metadata": {},
   "outputs": [
    {
     "data": {
      "text/html": [
       "<style>.container { width:100% !important; }</style>"
      ],
      "text/plain": [
       "<IPython.core.display.HTML object>"
      ]
     },
     "metadata": {},
     "output_type": "display_data"
    }
   ],
   "source": [
    "from IPython.core.display import display, HTML\n",
    "display(HTML(\"<style>.container { width:100% !important; }</style>\"))"
   ]
  },
  {
   "cell_type": "code",
   "execution_count": 2,
   "metadata": {},
   "outputs": [],
   "source": [
    "l1= 'aabcdbbcda'  \n",
    "l2= 'dabcdabcbb'  \n",
    "l3= 'bbbcdbbbccaa'  \n",
    "l4= 'aaadabbccc'  \n",
    "l5= 'aaacdcdcbedbccbadbdebdc'\n",
    " "
   ]
  },
  {
   "cell_type": "code",
   "execution_count": 3,
   "metadata": {},
   "outputs": [],
   "source": [
    "L=[l1,l2,l3,l4,l5]"
   ]
  },
  {
   "cell_type": "code",
   "execution_count": 4,
   "metadata": {},
   "outputs": [],
   "source": [
    "T=[[],[],[],[],[]]"
   ]
  },
  {
   "cell_type": "code",
   "execution_count": 5,
   "metadata": {},
   "outputs": [],
   "source": [
    "for idx, trace in enumerate(L) : \n",
    "    for a in trace :\n",
    "        T[idx].append(a)"
   ]
  },
  {
   "cell_type": "code",
   "execution_count": 6,
   "metadata": {},
   "outputs": [],
   "source": [
    "import util\n",
    "import copy"
   ]
  },
  {
   "cell_type": "code",
   "execution_count": 19,
   "metadata": {},
   "outputs": [],
   "source": [
    "def maximalRepeat(L) : \n",
    "    maximalRepeat={}\n",
    "    A=list(set(L))\n",
    "    A.sort()\n",
    "    print(\"set of Activities\", A)\n",
    "    L=[''] + L + ['']\n",
    "    print(\"log with paading\", L)\n",
    "    \n",
    "    for activity in A :\n",
    "        print(\"\\nto be started with activity\", activity)    \n",
    "        idx=util.listSearch(L,activity,0)\n",
    "        print(\"found activity\", activity, \"in\", idx)\n",
    "        \n",
    "        for l in range(len(idx)) :  #pi = the position of pattern\n",
    "            indice=idx[l:]\n",
    "            pl = indice[0]-1  #pl = pattern -1 to include immediate left \n",
    "            pr = indice[0] + 2 # pattern + 1 to include immediate right \n",
    "            for ti in indice[1:]: #ti = the position of target \n",
    " \n",
    "                tl= ti-1  #adding padding to the immediate left of the target\n",
    "                tr= ti+2 #adding padding to the immediate right of the target\n",
    "\n",
    "                pattern, target = search(L, pl, pr, tl, tr, 0,0,0)\n",
    "                \n",
    "                repeatedActivity=','.join(pattern[0][1:-1])\n",
    "                maximalRepeat[repeatedActivity]=maximalRepeat.get(repeatedActivity, 0) +1\n",
    "\n",
    "    return maximalRepeat"
   ]
  },
  {
   "cell_type": "code",
   "execution_count": 24,
   "metadata": {},
   "outputs": [],
   "source": [
    "def search (L, pl,pr,tl,tr, lm, rm,rep ):\n",
    "    pl = pl-lm\n",
    "    pr = pr+rm\n",
    "    tl = tl-lm\n",
    "    tr = tr+rm\n",
    "    pattern=[L[pl : pr], pl, pr]\n",
    "    target=[L[tl :tr], tl, tr]\n",
    "    \n",
    "    lhs = pattern[0][0] == target[0][0]\n",
    "    rhs = pattern[0][-1] == target[0][-1]\n",
    "    print(\"\\t\"*rep, rep, pl+1, tl+1, pattern, target, lhs, rhs)\n",
    "    \n",
    "    \n",
    "    if(lhs or rhs) :\n",
    "        print(\"\\t\"*rep, \"expand to the\", \"left\"* lhs, \"right\" * rhs)\n",
    "        pattern, target= search(L, pl,pr,tl,tr,lhs,rhs, rep+1) #recursion call\n",
    "    else :\n",
    "        print(\"\\t\"*rep, \"pattern found\", pattern[0][1: -1],\"\\n\")   \n",
    "        \n",
    "    return pattern, target\n",
    "    "
   ]
  },
  {
   "cell_type": "code",
   "execution_count": 29,
   "metadata": {
    "scrolled": false
   },
   "outputs": [
    {
     "name": "stdout",
     "output_type": "stream",
     "text": [
      "set of Activities ['a', 'b', 'c', 'd']\n",
      "log with paading ['', 'a', 'a', 'a', 'd', 'a', 'b', 'b', 'c', 'c', 'c', '']\n",
      "\n",
      "to be started with activity a\n",
      "found activity a in [1, 2, 3, 5]\n",
      " 0 1 2 [['', 'a', 'a'], 0, 3] [['a', 'a', 'a'], 1, 4] False True\n",
      " expand to the  right\n",
      "\t 1 1 2 [['', 'a', 'a', 'a'], 0, 4] [['a', 'a', 'a', 'd'], 1, 5] False False\n",
      "\t pattern found ['a', 'a'] \n",
      "\n",
      " 0 1 3 [['', 'a', 'a'], 0, 3] [['a', 'a', 'd'], 2, 5] False False\n",
      " pattern found ['a'] \n",
      "\n",
      " 0 1 5 [['', 'a', 'a'], 0, 3] [['d', 'a', 'b'], 4, 7] False False\n",
      " pattern found ['a'] \n",
      "\n",
      " 0 2 3 [['a', 'a', 'a'], 1, 4] [['a', 'a', 'd'], 2, 5] True False\n",
      " expand to the left \n",
      "\t 1 1 2 [['', 'a', 'a', 'a'], 0, 4] [['a', 'a', 'a', 'd'], 1, 5] False False\n",
      "\t pattern found ['a', 'a'] \n",
      "\n",
      " 0 2 5 [['a', 'a', 'a'], 1, 4] [['d', 'a', 'b'], 4, 7] False False\n",
      " pattern found ['a'] \n",
      "\n",
      " 0 3 5 [['a', 'a', 'd'], 2, 5] [['d', 'a', 'b'], 4, 7] False False\n",
      " pattern found ['a'] \n",
      "\n",
      "\n",
      "to be started with activity b\n",
      "found activity b in [6, 7]\n",
      " 0 6 7 [['a', 'b', 'b'], 5, 8] [['b', 'b', 'c'], 6, 9] False False\n",
      " pattern found ['b'] \n",
      "\n",
      "\n",
      "to be started with activity c\n",
      "found activity c in [8, 9, 10]\n",
      " 0 8 9 [['b', 'c', 'c'], 7, 10] [['c', 'c', 'c'], 8, 11] False True\n",
      " expand to the  right\n",
      "\t 1 8 9 [['b', 'c', 'c', 'c'], 7, 11] [['c', 'c', 'c', ''], 8, 12] False False\n",
      "\t pattern found ['c', 'c'] \n",
      "\n",
      " 0 8 10 [['b', 'c', 'c'], 7, 10] [['c', 'c', ''], 9, 12] False False\n",
      " pattern found ['c'] \n",
      "\n",
      " 0 9 10 [['c', 'c', 'c'], 8, 11] [['c', 'c', ''], 9, 12] True False\n",
      " expand to the left \n",
      "\t 1 8 9 [['b', 'c', 'c', 'c'], 7, 11] [['c', 'c', 'c', ''], 8, 12] False False\n",
      "\t pattern found ['c', 'c'] \n",
      "\n",
      "\n",
      "to be started with activity d\n",
      "found activity d in [4]\n"
     ]
    },
    {
     "data": {
      "text/plain": [
       "{'a,a': 2, 'a': 4, 'b': 1, 'c,c': 2, 'c': 1}"
      ]
     },
     "execution_count": 29,
     "metadata": {},
     "output_type": "execute_result"
    }
   ],
   "source": [
    "maximalRepeat(T[3])"
   ]
  },
  {
   "cell_type": "code",
   "execution_count": null,
   "metadata": {},
   "outputs": [],
   "source": []
  },
  {
   "cell_type": "code",
   "execution_count": null,
   "metadata": {},
   "outputs": [],
   "source": []
  }
 ],
 "metadata": {
  "kernelspec": {
   "display_name": "Python 3",
   "language": "python",
   "name": "python3"
  },
  "language_info": {
   "codemirror_mode": {
    "name": "ipython",
    "version": 3
   },
   "file_extension": ".py",
   "mimetype": "text/x-python",
   "name": "python",
   "nbconvert_exporter": "python",
   "pygments_lexer": "ipython3",
   "version": "3.7.3"
  }
 },
 "nbformat": 4,
 "nbformat_minor": 2
}
