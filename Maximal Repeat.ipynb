{
 "cells": [
  {
   "cell_type": "code",
   "execution_count": 1,
   "metadata": {},
   "outputs": [
    {
     "data": {
      "text/html": [
       "<style>.container { width:100% !important; }</style>"
      ],
      "text/plain": [
       "<IPython.core.display.HTML object>"
      ]
     },
     "metadata": {},
     "output_type": "display_data"
    }
   ],
   "source": [
    "from IPython.core.display import display, HTML\n",
    "display(HTML(\"<style>.container { width:100% !important; }</style>\"))"
   ]
  },
  {
   "cell_type": "code",
   "execution_count": 2,
   "metadata": {},
   "outputs": [],
   "source": [
    "import discover"
   ]
  },
  {
   "cell_type": "code",
   "execution_count": 3,
   "metadata": {},
   "outputs": [],
   "source": [
    "l1= 'aabcdbbcda'  \n",
    "l2= 'dabcdabcbb'  \n",
    "l3= 'bbbcdbbbccaa'  \n",
    "l4= 'aaadabbccc'  \n",
    "l5= 'aaacdcdcbedbccbadbdebdc'\n"
   ]
  },
  {
   "cell_type": "code",
   "execution_count": 9,
   "metadata": {
    "scrolled": true
   },
   "outputs": [
    {
     "name": "stdout",
     "output_type": "stream",
     "text": [
      "given log T \n",
      "\t ['a', 'a', 'a', 'c', 'd', 'c', 'd', 'c', 'b', 'e', 'd', 'b', 'c', 'c', 'b', 'a', 'd', 'b', 'd', 'e', 'b', 'd', 'c']\n",
      "discovered patterns\n",
      "\tmaximal repeat set ['a', 'b', 'c', 'd', 'e', 'a,a', 'b,d', 'c,b', 'd,b', 'd,c', 'c,d,c']\n",
      "\tsuper maximal repeat set ['e', 'a,a', 'b,d', 'c,b', 'd,b', 'c,d,c']\n",
      "\tnear super maximal repeat set ['a', 'c', 'e', 'a,a', 'b,d', 'c,b', 'd,b', 'd,c', 'c,d,c']\n"
     ]
    }
   ],
   "source": [
    "discover.patternDiscover(l5)"
   ]
  },
  {
   "cell_type": "code",
   "execution_count": null,
   "metadata": {},
   "outputs": [],
   "source": []
  }
 ],
 "metadata": {
  "kernelspec": {
   "display_name": "Python 3",
   "language": "python",
   "name": "python3"
  },
  "language_info": {
   "codemirror_mode": {
    "name": "ipython",
    "version": 3
   },
   "file_extension": ".py",
   "mimetype": "text/x-python",
   "name": "python",
   "nbconvert_exporter": "python",
   "pygments_lexer": "ipython3",
   "version": "3.7.3"
  }
 },
 "nbformat": 4,
 "nbformat_minor": 2
}
