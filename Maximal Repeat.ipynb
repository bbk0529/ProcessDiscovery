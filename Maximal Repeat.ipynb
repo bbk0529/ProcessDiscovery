{
 "cells": [
  {
   "cell_type": "code",
   "execution_count": 2,
   "metadata": {},
   "outputs": [
    {
     "data": {
      "text/html": [
       "<style>.container { width:100% !important; }</style>"
      ],
      "text/plain": [
       "<IPython.core.display.HTML object>"
      ]
     },
     "metadata": {},
     "output_type": "display_data"
    }
   ],
   "source": [
    "from IPython.core.display import display, HTML\n",
    "display(HTML(\"<style>.container { width:100% !important; }</style>\"))"
   ]
  },
  {
   "cell_type": "code",
   "execution_count": 80,
   "metadata": {},
   "outputs": [],
   "source": [
    "from pm4py.objects.log.importer.xes import factory as xes_import_factory\n",
    "log = xes_import_factory.apply('L9.xes')"
   ]
  },
  {
   "cell_type": "code",
   "execution_count": 85,
   "metadata": {
    "scrolled": true
   },
   "outputs": [
    {
     "data": {
      "text/plain": [
       "{'org:resource': 'UNDEFINED', 'time:timestamp': datetime.datetime(2010, 10, 27, 22, 33, 19, 557000, tzinfo=datetime.timezone(datetime.timedelta(seconds=7200))), 'concept:name': 'e', 'lifecycle:transition': 'complete'}"
      ]
     },
     "execution_count": 85,
     "metadata": {},
     "output_type": "execute_result"
    }
   ],
   "source": [
    "log[0][2]"
   ]
  },
  {
   "cell_type": "code",
   "execution_count": 74,
   "metadata": {},
   "outputs": [
    {
     "data": {
      "text/plain": [
       "{'org:resource': 'System', 'time:timestamp': datetime.datetime(1970, 1, 2, 12, 23, tzinfo=datetime.timezone(datetime.timedelta(seconds=3600))), 'concept:name': 'Register', 'lifecycle:transition': 'complete'}"
      ]
     },
     "execution_count": 74,
     "metadata": {},
     "output_type": "execute_result"
    }
   ],
   "source": [
    "log[0][0]"
   ]
  },
  {
   "cell_type": "code",
   "execution_count": 75,
   "metadata": {},
   "outputs": [
    {
     "data": {
      "text/plain": [
       "{'org:resource': 'Tester3', 'time:timestamp': datetime.datetime(1970, 1, 2, 12, 23, tzinfo=datetime.timezone(datetime.timedelta(seconds=3600))), 'concept:name': 'Analyze Defect', 'lifecycle:transition': 'start'}"
      ]
     },
     "execution_count": 75,
     "metadata": {},
     "output_type": "execute_result"
    }
   ],
   "source": [
    "log[0][1]"
   ]
  },
  {
   "cell_type": "code",
   "execution_count": 76,
   "metadata": {},
   "outputs": [
    {
     "data": {
      "text/plain": [
       "{'defectType': '6', 'org:resource': 'Tester3', 'lifecycle:transition': 'complete', 'phoneType': 'T2', 'time:timestamp': datetime.datetime(1970, 1, 2, 12, 30, tzinfo=datetime.timezone(datetime.timedelta(seconds=3600))), 'concept:name': 'Analyze Defect'}"
      ]
     },
     "execution_count": 76,
     "metadata": {},
     "output_type": "execute_result"
    }
   ],
   "source": [
    "log[0][2]"
   ]
  },
  {
   "cell_type": "code",
   "execution_count": 65,
   "metadata": {
    "scrolled": true
   },
   "outputs": [
    {
     "name": "stdout",
     "output_type": "stream",
     "text": [
      "{'call centre': 'Brisbane', 'org:resource': 'customer', 'time:timestamp': datetime.datetime(1970, 1, 1, 1, 0, tzinfo=datetime.timezone(datetime.timedelta(seconds=3600))), 'lifecycle:transition': 'complete', 'concept:name': 'incoming claim'}\n",
      "{'org:resource': 'Call Centre Agent Brisbane', 'time:timestamp': datetime.datetime(1970, 1, 1, 1, 0, tzinfo=datetime.timezone(datetime.timedelta(seconds=3600))), 'lifecycle:transition': 'start', 'location': 'Brisbane', 'concept:name': 'B check if sufficient information is available'}\n",
      "{'org:resource': 'Call Centre Agent Brisbane', 'time:timestamp': datetime.datetime(1970, 1, 1, 1, 0, 41, tzinfo=datetime.timezone(datetime.timedelta(seconds=3600))), 'lifecycle:transition': 'complete', 'location': 'Brisbane', 'concept:name': 'B check if sufficient information is available'}\n",
      "{'org:resource': 'Call Centre Agent Brisbane', 'time:timestamp': datetime.datetime(1970, 1, 1, 1, 0, 41, tzinfo=datetime.timezone(datetime.timedelta(seconds=3600))), 'concept:name': 'B register claim', 'lifecycle:transition': 'start'}\n",
      "{'org:resource': 'Call Centre Agent Brisbane', 'time:timestamp': datetime.datetime(1970, 1, 1, 1, 12, 59, tzinfo=datetime.timezone(datetime.timedelta(seconds=3600))), 'concept:name': 'B register claim', 'lifecycle:transition': 'complete'}\n",
      "{'org:resource': 'Claims handler', 'time:timestamp': datetime.datetime(1970, 1, 1, 1, 47, 4, tzinfo=datetime.timezone(datetime.timedelta(seconds=3600))), 'concept:name': 'determine likelihood of claim', 'lifecycle:transition': 'start'}\n",
      "{'org:resource': 'Claims handler', 'time:timestamp': datetime.datetime(1970, 1, 1, 1, 47, 12, tzinfo=datetime.timezone(datetime.timedelta(seconds=3600))), 'concept:name': 'determine likelihood of claim', 'lifecycle:transition': 'complete'}\n",
      "{'duration': '2832', 'org:resource': 'Claims handler', 'lifecycle:transition': 'start', 'time:timestamp': datetime.datetime(1970, 1, 1, 1, 47, 12, tzinfo=datetime.timezone(datetime.timedelta(seconds=3600))), 'concept:name': 'end', 'outcome': 'not liable'}\n",
      "{'duration': '2832', 'org:resource': 'Claims handler', 'lifecycle:transition': 'complete', 'time:timestamp': datetime.datetime(1970, 1, 1, 1, 47, 12, tzinfo=datetime.timezone(datetime.timedelta(seconds=3600))), 'concept:name': 'end', 'outcome': 'not liable'}\n"
     ]
    }
   ],
   "source": [
    "for i in log[0] : print(i)"
   ]
  },
  {
   "cell_type": "code",
   "execution_count": null,
   "metadata": {},
   "outputs": [],
   "source": []
  },
  {
   "cell_type": "code",
   "execution_count": 46,
   "metadata": {
    "scrolled": false
   },
   "outputs": [
    {
     "ename": "KeyError",
     "evalue": "'Activity'",
     "output_type": "error",
     "traceback": [
      "\u001b[0;31m---------------------------------------------------------------------------\u001b[0m",
      "\u001b[0;31mKeyError\u001b[0m                                  Traceback (most recent call last)",
      "\u001b[0;32m<ipython-input-46-cf745bafb9ca>\u001b[0m in \u001b[0;36m<module>\u001b[0;34m\u001b[0m\n\u001b[1;32m      1\u001b[0m \u001b[0;32mfor\u001b[0m \u001b[0ml\u001b[0m \u001b[0;32min\u001b[0m \u001b[0mlog\u001b[0m\u001b[0;34m[\u001b[0m\u001b[0;36m0\u001b[0m\u001b[0;34m]\u001b[0m \u001b[0;34m:\u001b[0m\u001b[0;34m\u001b[0m\u001b[0;34m\u001b[0m\u001b[0m\n\u001b[0;32m----> 2\u001b[0;31m     \u001b[0mprint\u001b[0m\u001b[0;34m(\u001b[0m\u001b[0ml\u001b[0m\u001b[0;34m[\u001b[0m\u001b[0;34m'Activity'\u001b[0m\u001b[0;34m]\u001b[0m\u001b[0;34m)\u001b[0m\u001b[0;34m\u001b[0m\u001b[0;34m\u001b[0m\u001b[0m\n\u001b[0m",
      "\u001b[0;32m~/anaconda3/lib/python3.7/site-packages/pm4py/objects/log/log.py\u001b[0m in \u001b[0;36m__getitem__\u001b[0;34m(self, key)\u001b[0m\n\u001b[1;32m      7\u001b[0m \u001b[0;34m\u001b[0m\u001b[0m\n\u001b[1;32m      8\u001b[0m     \u001b[0;32mdef\u001b[0m \u001b[0m__getitem__\u001b[0m\u001b[0;34m(\u001b[0m\u001b[0mself\u001b[0m\u001b[0;34m,\u001b[0m \u001b[0mkey\u001b[0m\u001b[0;34m)\u001b[0m\u001b[0;34m:\u001b[0m\u001b[0;34m\u001b[0m\u001b[0;34m\u001b[0m\u001b[0m\n\u001b[0;32m----> 9\u001b[0;31m         \u001b[0;32mreturn\u001b[0m \u001b[0mself\u001b[0m\u001b[0;34m.\u001b[0m\u001b[0m_dict\u001b[0m\u001b[0;34m[\u001b[0m\u001b[0mkey\u001b[0m\u001b[0;34m]\u001b[0m\u001b[0;34m\u001b[0m\u001b[0;34m\u001b[0m\u001b[0m\n\u001b[0m\u001b[1;32m     10\u001b[0m \u001b[0;34m\u001b[0m\u001b[0m\n\u001b[1;32m     11\u001b[0m     \u001b[0;32mdef\u001b[0m \u001b[0m__setitem__\u001b[0m\u001b[0;34m(\u001b[0m\u001b[0mself\u001b[0m\u001b[0;34m,\u001b[0m \u001b[0mkey\u001b[0m\u001b[0;34m,\u001b[0m \u001b[0mvalue\u001b[0m\u001b[0;34m)\u001b[0m\u001b[0;34m:\u001b[0m\u001b[0;34m\u001b[0m\u001b[0;34m\u001b[0m\u001b[0m\n",
      "\u001b[0;31mKeyError\u001b[0m: 'Activity'"
     ]
    }
   ],
   "source": [
    "for l in log[0] : \n",
    "    print(l['Activity'])"
   ]
  },
  {
   "cell_type": "code",
   "execution_count": 3,
   "metadata": {},
   "outputs": [],
   "source": [
    "import discover"
   ]
  },
  {
   "cell_type": "code",
   "execution_count": 6,
   "metadata": {},
   "outputs": [],
   "source": [
    "l1= 'aabcdbbcda'  \n",
    "l2= 'dabcdabcbb'  \n",
    "l3= 'bbbcdbbbccaa'  \n",
    "l4= 'aaadabbccc'  \n",
    "l5= 'aaacdcdcbedbccbadbdebdc'\n"
   ]
  },
  {
   "cell_type": "markdown",
   "metadata": {},
   "source": [
    "1st a  :' aa'\n",
    "2nd a  :'aab'\n",
    "3rd a  :'da ' \n",
    "\n",
    "1st bcd : ' abcdb'\n",
    "2nd bcd : ' bbcda'"
   ]
  },
  {
   "cell_type": "code",
   "execution_count": 4,
   "metadata": {
    "scrolled": true
   },
   "outputs": [
    {
     "name": "stdout",
     "output_type": "stream",
     "text": [
      "given log T \n",
      "\t ['g', 'h', 'a', 'b', 'c', 'a', 'b', 'c', 'a', 'b', 'c', 'a', 'b', 'c', 'a', 'f', 'x', 'c', 'a', '1', 'a', 'b', 'x', 'c', 'd', 'x', 'e', 'd', 'f', 'x', 'g', 'd', 'x', 'e', 'h', '2', 'b', 'b', 'b', 'c', 'd', 'b', 'b', 'b', 'c', 'c', 'a', 'a', '3', 'a', 'b', 'x', 'c', 'd', 'x', 'e', 'f', 'y', 'g', 'h', '4', 'a', 'b', 'x', 'c', 'f', 'x', 'g', 'd', 'x', 'e', 'f', 'd', 'x', 'e', 'h', '5', 'a', 'b', 'x', 'c', 'd', 'x', 'e', 'f', 'x', 'g', 'f', 'y', 'g', 'h']\n",
      "discovered patterns\n",
      "\tmaximal repeat set ['a', 'b', 'c', 'd', 'f', 'g', 'h', 'x', 'a,b', 'b,b', 'b,c', 'c,a', 'c,d', 'f,x', 'g,h', 'x,c', 'd,x,e', 'f,x,g', 'a,b,c,a', 'a,b,x,c', 'b,b,b,c', 'd,x,e,f', 'd,x,e,h', 'f,y,g,h', 'f,x,g,d,x,e', 'a,b,c,a,b,c,a', 'a,b,x,c,d,x,e', 'a,b,x,c,d,x,e,f', 'a,b,c,a,b,c,a,b,c,a']\n",
      "\tsuper maximal repeat set ['b,b,b,c', 'd,x,e,h', 'f,y,g,h', 'f,x,g,d,x,e', 'a,b,x,c,d,x,e,f', 'a,b,c,a,b,c,a,b,c,a']\n",
      "\tnear super maximal repeat set ['a', 'd', 'c,a', 'c,d', 'f,x', 'g,h', 'x,c', 'f,x,g', 'a,b,x,c', 'b,b,b,c', 'd,x,e,f', 'd,x,e,h', 'f,y,g,h', 'f,x,g,d,x,e', 'a,b,x,c,d,x,e', 'a,b,x,c,d,x,e,f', 'a,b,c,a,b,c,a,b,c,a']\n"
     ]
    }
   ],
   "source": [
    "discover.patternDiscover('ghabcabcabcabcafxca1abxcdxedfxgdxeh2bbbcdbbbccaa3abxcdxefygh4abxcfxgdxefdxeh5abxcdxefxgfygh')"
   ]
  },
  {
   "cell_type": "code",
   "execution_count": null,
   "metadata": {},
   "outputs": [],
   "source": []
  }
 ],
 "metadata": {
  "kernelspec": {
   "display_name": "Python 3",
   "language": "python",
   "name": "python3"
  },
  "language_info": {
   "codemirror_mode": {
    "name": "ipython",
    "version": 3
   },
   "file_extension": ".py",
   "mimetype": "text/x-python",
   "name": "python",
   "nbconvert_exporter": "python",
   "pygments_lexer": "ipython3",
   "version": "3.7.3"
  }
 },
 "nbformat": 4,
 "nbformat_minor": 2
}
