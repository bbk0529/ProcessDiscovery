{
 "cells": [
  {
   "cell_type": "code",
   "execution_count": 1,
   "metadata": {},
   "outputs": [],
   "source": [
    "from itertools import chain, combinations\n",
    "\n",
    "def powerset(iterable):\n",
    "    \"powerset([1,2,3]) --> () (1,) (2,) (3,) (1,2) (1,3) (2,3) (1,2,3)\"\n",
    "    s = list(iterable)\n",
    "    return chain.from_iterable(combinations(s, r) for r in range(len(s)+1))"
   ]
  },
  {
   "cell_type": "code",
   "execution_count": 2,
   "metadata": {},
   "outputs": [],
   "source": [
    "import pandas as pd"
   ]
  },
  {
   "cell_type": "code",
   "execution_count": 3,
   "metadata": {},
   "outputs": [],
   "source": [
    "def footprint(activity) : \n",
    "    trace=list(set(activity))\n",
    "    trace.sort()\n",
    "    df=pd.DataFrame([['#']*len(activity) for a in activity],index = activity, columns=activity)\n",
    "    return df"
   ]
  },
  {
   "cell_type": "code",
   "execution_count": 4,
   "metadata": {},
   "outputs": [],
   "source": [
    "def writeFootPrint(df, trace) :\n",
    "    for i in range(len(trace)-1) : \n",
    "        p=(trace[i:i+2])\n",
    "        if df.loc[p[0],p[1]]=='#' :\n",
    "            df.loc[p[0],p[1]]='>'\n",
    "            df.loc[p[1],p[0]]='<'\n",
    "        elif df.loc[p[0],p[1]] =='<' :\n",
    "            df.loc[p[0],p[1]] = '||'\n",
    "            df.loc[p[1],p[0]] = '||'\n",
    "    return df"
   ]
  },
  {
   "cell_type": "code",
   "execution_count": 217,
   "metadata": {},
   "outputs": [],
   "source": [
    "#assign 5-L1\n",
    "L= '''\n",
    "[\n",
    "<a, d, f, h>, \n",
    "<a, c, e, g, c, e, h>, \n",
    "<a, d, f, g, d, f, h>, \n",
    "<a, f, g, d, f, h>\n",
    "]\n",
    "'''\n",
    "\n"
   ]
  },
  {
   "cell_type": "code",
   "execution_count": 18,
   "metadata": {},
   "outputs": [],
   "source": [
    "#Assign 5-L2\n",
    "L='''\n",
    "[<a, b, d, e, g, i, j>, <a, b, e, d, h, i, j>, <a, b, f, d, g, i, j>, <a, b, f, g, d, i, j>, <a, b, g, d, f, i, j>,\n",
    "<a, b, d, f, h, i, c, b, e, h, d, i, j>, <a, b, g, f, d, i, c, b, h, f, d, i, j>, <a, b, h, e, d, i, c, b, d, g, e, i, j>\n",
    "]\n",
    "'''"
   ]
  },
  {
   "cell_type": "code",
   "execution_count": 218,
   "metadata": {},
   "outputs": [],
   "source": [
    "#LOG Preprocessing\n",
    "L=L.replace(\"<\", \"[\").replace(\">\",\"]\").replace(\",\",\"\").replace(\" \",\"\").replace(\"\\n\",\"\")[1:-1]\n",
    "T=[]\n",
    "for l in L : \n",
    "    if l==\"[\" : log=[]; continue\n",
    "    if l==\"]\" : T.append(log); log=[]; continue\n",
    "    log.append(l)     "
   ]
  },
  {
   "cell_type": "code",
   "execution_count": 220,
   "metadata": {},
   "outputs": [],
   "source": [
    "logs=[]\n",
    "for l in T : \n",
    "    logs+=l\n",
    "    \n",
    "activity=list(set(logs))\n",
    "activity.sort()\n",
    "df=footprint(activity)"
   ]
  },
  {
   "cell_type": "code",
   "execution_count": 239,
   "metadata": {},
   "outputs": [],
   "source": [
    "complete=pd.DataFrame([['#']*len(activity) for a in activity],index = activity, columns=activity) \n"
   ]
  },
  {
   "cell_type": "code",
   "execution_count": 10,
   "metadata": {},
   "outputs": [],
   "source": [
    "for trace in T : \n",
    "    complete=writeFootPrint(df,trace)"
   ]
  },
  {
   "cell_type": "code",
   "execution_count": 11,
   "metadata": {},
   "outputs": [],
   "source": [
    "# T = sets of sequences, in multi level arrays \n",
    "#Extract the elements from the logs\n",
    "DF=[] \n",
    "\n",
    "for j in range(len(T)) : # 0 to 8\n",
    "    #initialization for the foot print consisting of only \"#\"\n",
    "    df=pd.DataFrame([['#']*len(activity) for a in activity],index = activity, columns=activity) \n",
    "    \n",
    "    for idx, trace in enumerate(T) : \n",
    "        if j==idx : continue #artfically, omitting one trace for each loop \n",
    "        #print(j,idx)    \n",
    "        df=writeFootPrint(df,trace)\n",
    "    DF.append(df)"
   ]
  },
  {
   "cell_type": "code",
   "execution_count": 12,
   "metadata": {},
   "outputs": [
    {
     "name": "stdout",
     "output_type": "stream",
     "text": [
      "0 same\n",
      "    a  c  d  e  f  g  h\n",
      "a  #  >  >  #  >  #  #\n",
      "c  <  #  #  >  #  <  #\n",
      "d  <  #  #  #  >  <  #\n",
      "e  #  <  #  #  #  >  >\n",
      "f  <  #  <  #  #  >  >\n",
      "g  #  >  >  <  <  #  #\n",
      "h  #  #  #  <  <  #  #\n",
      "2 same\n",
      "    a  c  d  e  f  g  h\n",
      "a  #  >  >  #  >  #  #\n",
      "c  <  #  #  >  #  <  #\n",
      "d  <  #  #  #  >  <  #\n",
      "e  #  <  #  #  #  >  >\n",
      "f  <  #  <  #  #  >  >\n",
      "g  #  >  >  <  <  #  #\n",
      "h  #  #  #  <  <  #  #\n"
     ]
    }
   ],
   "source": [
    "for i, df in enumerate(DF) :\n",
    "    #print(complete==df)\n",
    "    comp=(complete!=df)\n",
    "    if sum(comp.sum(axis=1)) == 0 : \n",
    "        print(i,\"same\\n\", df, )"
   ]
  },
  {
   "cell_type": "code",
   "execution_count": 13,
   "metadata": {},
   "outputs": [
    {
     "data": {
      "text/html": [
       "<div>\n",
       "<style scoped>\n",
       "    .dataframe tbody tr th:only-of-type {\n",
       "        vertical-align: middle;\n",
       "    }\n",
       "\n",
       "    .dataframe tbody tr th {\n",
       "        vertical-align: top;\n",
       "    }\n",
       "\n",
       "    .dataframe thead th {\n",
       "        text-align: right;\n",
       "    }\n",
       "</style>\n",
       "<table border=\"1\" class=\"dataframe\">\n",
       "  <thead>\n",
       "    <tr style=\"text-align: right;\">\n",
       "      <th></th>\n",
       "      <th>a</th>\n",
       "      <th>c</th>\n",
       "      <th>d</th>\n",
       "      <th>e</th>\n",
       "      <th>f</th>\n",
       "      <th>g</th>\n",
       "      <th>h</th>\n",
       "    </tr>\n",
       "  </thead>\n",
       "  <tbody>\n",
       "    <tr>\n",
       "      <th>a</th>\n",
       "      <td>#</td>\n",
       "      <td>&gt;</td>\n",
       "      <td>&gt;</td>\n",
       "      <td>#</td>\n",
       "      <td>&gt;</td>\n",
       "      <td>#</td>\n",
       "      <td>#</td>\n",
       "    </tr>\n",
       "    <tr>\n",
       "      <th>c</th>\n",
       "      <td>&lt;</td>\n",
       "      <td>#</td>\n",
       "      <td>#</td>\n",
       "      <td>&gt;</td>\n",
       "      <td>#</td>\n",
       "      <td>&lt;</td>\n",
       "      <td>#</td>\n",
       "    </tr>\n",
       "    <tr>\n",
       "      <th>d</th>\n",
       "      <td>&lt;</td>\n",
       "      <td>#</td>\n",
       "      <td>#</td>\n",
       "      <td>#</td>\n",
       "      <td>&gt;</td>\n",
       "      <td>&lt;</td>\n",
       "      <td>#</td>\n",
       "    </tr>\n",
       "    <tr>\n",
       "      <th>e</th>\n",
       "      <td>#</td>\n",
       "      <td>&lt;</td>\n",
       "      <td>#</td>\n",
       "      <td>#</td>\n",
       "      <td>#</td>\n",
       "      <td>&gt;</td>\n",
       "      <td>&gt;</td>\n",
       "    </tr>\n",
       "    <tr>\n",
       "      <th>f</th>\n",
       "      <td>&lt;</td>\n",
       "      <td>#</td>\n",
       "      <td>&lt;</td>\n",
       "      <td>#</td>\n",
       "      <td>#</td>\n",
       "      <td>&gt;</td>\n",
       "      <td>&gt;</td>\n",
       "    </tr>\n",
       "    <tr>\n",
       "      <th>g</th>\n",
       "      <td>#</td>\n",
       "      <td>&gt;</td>\n",
       "      <td>&gt;</td>\n",
       "      <td>&lt;</td>\n",
       "      <td>&lt;</td>\n",
       "      <td>#</td>\n",
       "      <td>#</td>\n",
       "    </tr>\n",
       "    <tr>\n",
       "      <th>h</th>\n",
       "      <td>#</td>\n",
       "      <td>#</td>\n",
       "      <td>#</td>\n",
       "      <td>&lt;</td>\n",
       "      <td>&lt;</td>\n",
       "      <td>#</td>\n",
       "      <td>#</td>\n",
       "    </tr>\n",
       "  </tbody>\n",
       "</table>\n",
       "</div>"
      ],
      "text/plain": [
       "   a  c  d  e  f  g  h\n",
       "a  #  >  >  #  >  #  #\n",
       "c  <  #  #  >  #  <  #\n",
       "d  <  #  #  #  >  <  #\n",
       "e  #  <  #  #  #  >  >\n",
       "f  <  #  <  #  #  >  >\n",
       "g  #  >  >  <  <  #  #\n",
       "h  #  #  #  <  <  #  #"
      ]
     },
     "execution_count": 13,
     "metadata": {},
     "output_type": "execute_result"
    }
   ],
   "source": [
    "complete"
   ]
  },
  {
   "cell_type": "markdown",
   "metadata": {},
   "source": [
    "# Above do not touch\n"
   ]
  },
  {
   "cell_type": "code",
   "execution_count": null,
   "metadata": {},
   "outputs": [],
   "source": []
  },
  {
   "cell_type": "code",
   "execution_count": 721,
   "metadata": {},
   "outputs": [],
   "source": [
    "#Assign 5-L2\n",
    "L='''\n",
    "[<a, b, c>, <e, b, f>, <a, b, d>]\n",
    "'''"
   ]
  },
  {
   "cell_type": "code",
   "execution_count": 722,
   "metadata": {},
   "outputs": [],
   "source": [
    "#LOG Preprocessing\n",
    "L=L.replace(\"<\", \"[\").replace(\">\",\"]\").replace(\",\",\"\").replace(\" \",\"\").replace(\"\\n\",\"\")[1:-1]\n",
    "T=[]\n",
    "for l in L : \n",
    "    if l==\"[\" : log=[]; continue\n",
    "    if l==\"]\" : T.append(log); log=[]; continue\n",
    "    log.append(l)     "
   ]
  },
  {
   "cell_type": "code",
   "execution_count": 723,
   "metadata": {},
   "outputs": [],
   "source": [
    "logs=[]\n",
    "for l in T : \n",
    "    logs+=l\n",
    "    \n",
    "activity=list(set(logs))\n",
    "activity.sort()\n",
    "df=footprint(activity)"
   ]
  },
  {
   "cell_type": "code",
   "execution_count": 724,
   "metadata": {},
   "outputs": [],
   "source": [
    "complete=pd.DataFrame([['#']*len(activity) for a in activity],index = activity, columns=activity) "
   ]
  },
  {
   "cell_type": "code",
   "execution_count": 725,
   "metadata": {},
   "outputs": [],
   "source": [
    "def writeFootPrint2(direct_relation,parallel_relation, df, trace) :\n",
    "    for i in range(len(trace)-1) : \n",
    "        p=(trace[i:i+2])\n",
    "        print(p)\n",
    "        \n",
    "        if df.loc[p[0],p[1]]=='#' :\n",
    "            df.loc[p[0],p[1]]='>'\n",
    "            df.loc[p[1],p[0]]='<'\n",
    "            direct_relation.append(p)\n",
    "        elif df.loc[p[0],p[1]] =='<' :\n",
    "            df.loc[p[0],p[1]] = '||'\n",
    "            df.loc[p[1],p[0]] = '||'\n",
    "            try :\n",
    "                print(\"remove\",p)\n",
    "                direct_relation.remove(p)\n",
    "                \n",
    "            except :\n",
    "                print(\"error\")\n",
    "                \n",
    "            try :\n",
    "                #print(\"remove -r \",p)\n",
    "                p.reverse()\n",
    "                direct_relation.remove(p)\n",
    "                \n",
    "            except :\n",
    "                print(\"error-r\")    \n",
    "               \n",
    "            \n",
    "            parallel_relation.append(p)\n",
    "    return direct_relation, parallel_relation, df"
   ]
  },
  {
   "cell_type": "code",
   "execution_count": 726,
   "metadata": {},
   "outputs": [
    {
     "name": "stdout",
     "output_type": "stream",
     "text": [
      "['a', 'b']\n",
      "['b', 'c']\n",
      "['e', 'b']\n",
      "['b', 'f']\n",
      "['a', 'b']\n",
      "['b', 'd']\n"
     ]
    }
   ],
   "source": [
    "parallel_relation=[]\n",
    "direct_relation=[]\n",
    "for trace in T : \n",
    "    direct_relation, parallel_relation,complete=writeFootPrint2(direct_relation, parallel_relation, df,trace)"
   ]
  },
  {
   "cell_type": "code",
   "execution_count": 727,
   "metadata": {},
   "outputs": [
    {
     "data": {
      "text/html": [
       "<div>\n",
       "<style scoped>\n",
       "    .dataframe tbody tr th:only-of-type {\n",
       "        vertical-align: middle;\n",
       "    }\n",
       "\n",
       "    .dataframe tbody tr th {\n",
       "        vertical-align: top;\n",
       "    }\n",
       "\n",
       "    .dataframe thead th {\n",
       "        text-align: right;\n",
       "    }\n",
       "</style>\n",
       "<table border=\"1\" class=\"dataframe\">\n",
       "  <thead>\n",
       "    <tr style=\"text-align: right;\">\n",
       "      <th></th>\n",
       "      <th>a</th>\n",
       "      <th>b</th>\n",
       "      <th>c</th>\n",
       "      <th>d</th>\n",
       "      <th>e</th>\n",
       "      <th>f</th>\n",
       "    </tr>\n",
       "  </thead>\n",
       "  <tbody>\n",
       "    <tr>\n",
       "      <th>a</th>\n",
       "      <td>#</td>\n",
       "      <td>&gt;</td>\n",
       "      <td>#</td>\n",
       "      <td>#</td>\n",
       "      <td>#</td>\n",
       "      <td>#</td>\n",
       "    </tr>\n",
       "    <tr>\n",
       "      <th>b</th>\n",
       "      <td>&lt;</td>\n",
       "      <td>#</td>\n",
       "      <td>&gt;</td>\n",
       "      <td>&gt;</td>\n",
       "      <td>&lt;</td>\n",
       "      <td>&gt;</td>\n",
       "    </tr>\n",
       "    <tr>\n",
       "      <th>c</th>\n",
       "      <td>#</td>\n",
       "      <td>&lt;</td>\n",
       "      <td>#</td>\n",
       "      <td>#</td>\n",
       "      <td>#</td>\n",
       "      <td>#</td>\n",
       "    </tr>\n",
       "    <tr>\n",
       "      <th>d</th>\n",
       "      <td>#</td>\n",
       "      <td>&lt;</td>\n",
       "      <td>#</td>\n",
       "      <td>#</td>\n",
       "      <td>#</td>\n",
       "      <td>#</td>\n",
       "    </tr>\n",
       "    <tr>\n",
       "      <th>e</th>\n",
       "      <td>#</td>\n",
       "      <td>&gt;</td>\n",
       "      <td>#</td>\n",
       "      <td>#</td>\n",
       "      <td>#</td>\n",
       "      <td>#</td>\n",
       "    </tr>\n",
       "    <tr>\n",
       "      <th>f</th>\n",
       "      <td>#</td>\n",
       "      <td>&lt;</td>\n",
       "      <td>#</td>\n",
       "      <td>#</td>\n",
       "      <td>#</td>\n",
       "      <td>#</td>\n",
       "    </tr>\n",
       "  </tbody>\n",
       "</table>\n",
       "</div>"
      ],
      "text/plain": [
       "   a  b  c  d  e  f\n",
       "a  #  >  #  #  #  #\n",
       "b  <  #  >  >  <  >\n",
       "c  #  <  #  #  #  #\n",
       "d  #  <  #  #  #  #\n",
       "e  #  >  #  #  #  #\n",
       "f  #  <  #  #  #  #"
      ]
     },
     "execution_count": 727,
     "metadata": {},
     "output_type": "execute_result"
    }
   ],
   "source": [
    "complete"
   ]
  },
  {
   "cell_type": "code",
   "execution_count": 728,
   "metadata": {},
   "outputs": [],
   "source": [
    "direct_relation.sort()"
   ]
  },
  {
   "cell_type": "code",
   "execution_count": 729,
   "metadata": {},
   "outputs": [
    {
     "data": {
      "text/plain": [
       "[['a', 'b'], ['b', 'c'], ['b', 'd'], ['b', 'f'], ['e', 'b']]"
      ]
     },
     "execution_count": 729,
     "metadata": {},
     "output_type": "execute_result"
    }
   ],
   "source": [
    "direct_relation"
   ]
  },
  {
   "cell_type": "code",
   "execution_count": 730,
   "metadata": {},
   "outputs": [
    {
     "data": {
      "text/html": [
       "<div>\n",
       "<style scoped>\n",
       "    .dataframe tbody tr th:only-of-type {\n",
       "        vertical-align: middle;\n",
       "    }\n",
       "\n",
       "    .dataframe tbody tr th {\n",
       "        vertical-align: top;\n",
       "    }\n",
       "\n",
       "    .dataframe thead th {\n",
       "        text-align: right;\n",
       "    }\n",
       "</style>\n",
       "<table border=\"1\" class=\"dataframe\">\n",
       "  <thead>\n",
       "    <tr style=\"text-align: right;\">\n",
       "      <th></th>\n",
       "      <th>a</th>\n",
       "      <th>b</th>\n",
       "      <th>c</th>\n",
       "      <th>d</th>\n",
       "      <th>e</th>\n",
       "      <th>f</th>\n",
       "    </tr>\n",
       "  </thead>\n",
       "  <tbody>\n",
       "    <tr>\n",
       "      <th>a</th>\n",
       "      <td>#</td>\n",
       "      <td>&gt;</td>\n",
       "      <td>#</td>\n",
       "      <td>#</td>\n",
       "      <td>#</td>\n",
       "      <td>#</td>\n",
       "    </tr>\n",
       "    <tr>\n",
       "      <th>b</th>\n",
       "      <td>&lt;</td>\n",
       "      <td>#</td>\n",
       "      <td>&gt;</td>\n",
       "      <td>&gt;</td>\n",
       "      <td>&lt;</td>\n",
       "      <td>&gt;</td>\n",
       "    </tr>\n",
       "    <tr>\n",
       "      <th>c</th>\n",
       "      <td>#</td>\n",
       "      <td>&lt;</td>\n",
       "      <td>#</td>\n",
       "      <td>#</td>\n",
       "      <td>#</td>\n",
       "      <td>#</td>\n",
       "    </tr>\n",
       "    <tr>\n",
       "      <th>d</th>\n",
       "      <td>#</td>\n",
       "      <td>&lt;</td>\n",
       "      <td>#</td>\n",
       "      <td>#</td>\n",
       "      <td>#</td>\n",
       "      <td>#</td>\n",
       "    </tr>\n",
       "    <tr>\n",
       "      <th>e</th>\n",
       "      <td>#</td>\n",
       "      <td>&gt;</td>\n",
       "      <td>#</td>\n",
       "      <td>#</td>\n",
       "      <td>#</td>\n",
       "      <td>#</td>\n",
       "    </tr>\n",
       "    <tr>\n",
       "      <th>f</th>\n",
       "      <td>#</td>\n",
       "      <td>&lt;</td>\n",
       "      <td>#</td>\n",
       "      <td>#</td>\n",
       "      <td>#</td>\n",
       "      <td>#</td>\n",
       "    </tr>\n",
       "  </tbody>\n",
       "</table>\n",
       "</div>"
      ],
      "text/plain": [
       "   a  b  c  d  e  f\n",
       "a  #  >  #  #  #  #\n",
       "b  <  #  >  >  <  >\n",
       "c  #  <  #  #  #  #\n",
       "d  #  <  #  #  #  #\n",
       "e  #  >  #  #  #  #\n",
       "f  #  <  #  #  #  #"
      ]
     },
     "execution_count": 730,
     "metadata": {},
     "output_type": "execute_result"
    }
   ],
   "source": [
    "complete"
   ]
  },
  {
   "cell_type": "code",
   "execution_count": 731,
   "metadata": {},
   "outputs": [
    {
     "data": {
      "text/plain": [
       "[]"
      ]
     },
     "execution_count": 731,
     "metadata": {},
     "output_type": "execute_result"
    }
   ],
   "source": [
    "parallel_relation.sort()\n",
    "parallel_relation"
   ]
  },
  {
   "cell_type": "markdown",
   "metadata": {
    "scrolled": false
   },
   "source": [
    "candidate=[]\n",
    "for i in range(len(complete)):\n",
    "    name=complete.iloc[i].name\n",
    "    follow=list(complete.iloc[i][complete.iloc[i]=='>'].keys())\n",
    "    if follow :\n",
    "        print(name, follow)\n",
    "        if len(follow) > 1 :\n",
    "            print(\"folllo length>1\")\n",
    "            for i in range(len(follow)-1) :\n",
    "                j2=len(follow)-1-i\n",
    "                for j in range(j2) : \n",
    "                    print(j,j2, follow[j],follow[j2])\n",
    "                    check=complete.loc[follow[j],follow[j2]]\n",
    "                    if check=='#' :  \n",
    "                        print(\"this relation can be added\", name, follow[j], follow[j2], check )\n",
    "                        candidate.append([name,follow[j]+follow[j2]])\n"
   ]
  },
  {
   "cell_type": "code",
   "execution_count": 732,
   "metadata": {
    "scrolled": false
   },
   "outputs": [],
   "source": [
    "def merge(candidate) :\n",
    "    candidate2=[]\n",
    "    for i in range(len(candidate)-1) :\n",
    "        j2=len(candidate)-1-i\n",
    "        for j in range(j2) :\n",
    "            a=candidate[j]\n",
    "            b=candidate[j2]\n",
    "            lhs=a[0]==b[0]\n",
    "            rhs=a[1]==b[1]\n",
    "            print(j,j2, a, b, a[0]==b[0], a[1]==b[1])\n",
    "            if lhs:\n",
    "                print(\"lhs\",a,b)\n",
    "                p=list(\n",
    "                    (set(a[1]+b[1]) - set(a[1])) | \n",
    "                    (set(a[1]+b[1]) - set(b[1]))\n",
    "                    )\n",
    "                print(\"lhs - p\", p)\n",
    "                if (complete.loc[p[0],p[1]]) == '#' :\n",
    "                    item =  [a[0], (''.join(list(set(a[1]) | set(b[1]))))]\n",
    "                    print(item, \"added lhs\")\n",
    "                    if item not in candidate2 : candidate2.append(item)\n",
    "            if rhs:\n",
    "                print(\"rhs\",a,b)\n",
    "                p=list(\n",
    "                    (set(a[0]+b[0]) - set(a[0])) | \n",
    "                    (set(a[0]+b[0]) - set(b[0]))\n",
    "                    )\n",
    "                print(\"rhs - p\", p)\n",
    "                if (complete.loc[p[0],p[1]]) == '#' :\n",
    "                    item =  [(''.join(list(set(a[0]) | set(b[0])))), a[1]]\n",
    "                    print(item, \"added rhs\")\n",
    "                    if item not in candidate2 : candidate2.append(item)\n",
    "    candidate2.sort()\n",
    "    return candidate2"
   ]
  },
  {
   "cell_type": "code",
   "execution_count": 733,
   "metadata": {
    "scrolled": true
   },
   "outputs": [
    {
     "name": "stdout",
     "output_type": "stream",
     "text": [
      "0 4 ['a', 'b'] ['e', 'b'] False True\n",
      "rhs ['a', 'b'] ['e', 'b']\n",
      "rhs - p ['e', 'a']\n",
      "['ea', 'b'] added rhs\n",
      "1 4 ['b', 'c'] ['e', 'b'] False False\n",
      "2 4 ['b', 'd'] ['e', 'b'] False False\n",
      "3 4 ['b', 'f'] ['e', 'b'] False False\n",
      "0 3 ['a', 'b'] ['b', 'f'] False False\n",
      "1 3 ['b', 'c'] ['b', 'f'] True False\n",
      "lhs ['b', 'c'] ['b', 'f']\n",
      "lhs - p ['f', 'c']\n",
      "['b', 'fc'] added lhs\n",
      "2 3 ['b', 'd'] ['b', 'f'] True False\n",
      "lhs ['b', 'd'] ['b', 'f']\n",
      "lhs - p ['f', 'd']\n",
      "['b', 'df'] added lhs\n",
      "0 2 ['a', 'b'] ['b', 'd'] False False\n",
      "1 2 ['b', 'c'] ['b', 'd'] True False\n",
      "lhs ['b', 'c'] ['b', 'd']\n",
      "lhs - p ['d', 'c']\n",
      "['b', 'dc'] added lhs\n",
      "0 1 ['a', 'b'] ['b', 'c'] False False\n",
      "[['b', 'dc'], ['b', 'df'], ['b', 'fc'], ['ea', 'b']]\n",
      "0 3 ['b', 'dc'] ['ea', 'b'] False False\n",
      "1 3 ['b', 'df'] ['ea', 'b'] False False\n",
      "2 3 ['b', 'fc'] ['ea', 'b'] False False\n",
      "0 2 ['b', 'dc'] ['b', 'fc'] True False\n",
      "lhs ['b', 'dc'] ['b', 'fc']\n",
      "lhs - p ['f', 'd']\n",
      "['b', 'dfc'] added lhs\n",
      "1 2 ['b', 'df'] ['b', 'fc'] True False\n",
      "lhs ['b', 'df'] ['b', 'fc']\n",
      "lhs - p ['d', 'c']\n",
      "['b', 'dfc'] added lhs\n",
      "0 1 ['b', 'dc'] ['b', 'df'] True False\n",
      "lhs ['b', 'dc'] ['b', 'df']\n",
      "lhs - p ['f', 'c']\n",
      "['b', 'dfc'] added lhs\n",
      "[['b', 'dfc']]\n",
      "[]\n"
     ]
    }
   ],
   "source": [
    "total =direct_relation\n",
    "data=direct_relation\n",
    "while(True) :\n",
    "    result=merge(data)\n",
    "    print(result)\n",
    "    if len(result)==0 : break\n",
    "    total += result \n",
    "    \n",
    "    data=result"
   ]
  },
  {
   "cell_type": "code",
   "execution_count": 734,
   "metadata": {},
   "outputs": [
    {
     "data": {
      "text/plain": [
       "[['a', 'b'],\n",
       " ['b', 'c'],\n",
       " ['b', 'd'],\n",
       " ['b', 'f'],\n",
       " ['e', 'b'],\n",
       " ['b', 'dc'],\n",
       " ['b', 'df'],\n",
       " ['b', 'fc'],\n",
       " ['ea', 'b'],\n",
       " ['b', 'dfc']]"
      ]
     },
     "execution_count": 734,
     "metadata": {},
     "output_type": "execute_result"
    }
   ],
   "source": [
    "total"
   ]
  },
  {
   "cell_type": "code",
   "execution_count": 436,
   "metadata": {},
   "outputs": [
    {
     "name": "stdout",
     "output_type": "stream",
     "text": [
      "rhs ['a', 'cd'] ['g', 'cd']\n",
      "rhs - p ['a', 'g']\n",
      "rhs ['e', 'gh'] ['f', 'gh']\n",
      "rhs - p ['f', 'e']\n",
      "lhs ['ef', 'g'] ['ef', 'h']\n",
      "lhs - p ['h', 'g']\n",
      "lhs ['ag', 'c'] ['ag', 'd']\n",
      "lhs - p ['d', 'c']\n"
     ]
    }
   ],
   "source": [
    "c2=merge(c1)"
   ]
  },
  {
   "cell_type": "code",
   "execution_count": 437,
   "metadata": {},
   "outputs": [
    {
     "data": {
      "text/plain": [
       "[['ag', 'cd'], ['ef', 'gh']]"
      ]
     },
     "execution_count": 437,
     "metadata": {},
     "output_type": "execute_result"
    }
   ],
   "source": [
    "c2"
   ]
  },
  {
   "cell_type": "code",
   "execution_count": 438,
   "metadata": {},
   "outputs": [
    {
     "data": {
      "text/plain": [
       "[['a', 'c'],\n",
       " ['a', 'd'],\n",
       " ['b', 'f'],\n",
       " ['c', 'e'],\n",
       " ['d', 'f'],\n",
       " ['e', 'g'],\n",
       " ['e', 'h'],\n",
       " ['f', 'g'],\n",
       " ['f', 'h'],\n",
       " ['g', 'c'],\n",
       " ['g', 'd'],\n",
       " ['a', 'cd'],\n",
       " ['ag', 'c'],\n",
       " ['ag', 'd'],\n",
       " ['bd', 'f'],\n",
       " ['e', 'gh'],\n",
       " ['ef', 'g'],\n",
       " ['ef', 'h'],\n",
       " ['f', 'gh'],\n",
       " ['g', 'cd'],\n",
       " ['ag', 'cd'],\n",
       " ['ef', 'gh']]"
      ]
     },
     "execution_count": 438,
     "metadata": {},
     "output_type": "execute_result"
    }
   ],
   "source": [
    "direct_relation + c + c2 "
   ]
  },
  {
   "cell_type": "code",
   "execution_count": null,
   "metadata": {},
   "outputs": [],
   "source": []
  }
 ],
 "metadata": {
  "kernelspec": {
   "display_name": "Python 3",
   "language": "python",
   "name": "python3"
  },
  "language_info": {
   "codemirror_mode": {
    "name": "ipython",
    "version": 3
   },
   "file_extension": ".py",
   "mimetype": "text/x-python",
   "name": "python",
   "nbconvert_exporter": "python",
   "pygments_lexer": "ipython3",
   "version": "3.7.3"
  }
 },
 "nbformat": 4,
 "nbformat_minor": 2
}
