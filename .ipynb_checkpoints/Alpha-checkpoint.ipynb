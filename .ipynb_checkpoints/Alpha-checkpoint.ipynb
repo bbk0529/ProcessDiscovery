{
 "cells": [
  {
   "cell_type": "code",
   "execution_count": 17,
   "metadata": {},
   "outputs": [],
   "source": [
    "t1=['a','g','f','h']\n",
    "t2=['a','f','g','c','e','g','c','e','h']\n",
    "t3=['a','d','f','g','d','f','h']\n",
    "t4=['a','f','g','d','f','h']"
   ]
  },
  {
   "cell_type": "code",
   "execution_count": 3,
   "metadata": {},
   "outputs": [],
   "source": [
    "L= '''\n",
    "[<a, b, c, d, e, f, b, d, c, e, g>,\n",
    "<a, b, d, c, e, g>,\n",
    "<a, b, c, d, e, f, b, c, d, e, f, b, d, c, e, g>]'''"
   ]
  },
  {
   "cell_type": "code",
   "execution_count": 12,
   "metadata": {},
   "outputs": [],
   "source": [
    "L=L.replace(\"<\", \"[\").replace(\">\",\"]\").replace(\"\\n\",\"\")"
   ]
  },
  {
   "cell_type": "code",
   "execution_count": 15,
   "metadata": {},
   "outputs": [
    {
     "data": {
      "text/plain": [
       "'[[a, b, c, d, e, f, b, d, c, e, g],[a, b, d, c, e, g],[a, b, c, d, e, f, b, c, d, e, f, b, d, c, e, g]]'"
      ]
     },
     "execution_count": 15,
     "metadata": {},
     "output_type": "execute_result"
    }
   ],
   "source": [
    "L"
   ]
  },
  {
   "cell_type": "code",
   "execution_count": 14,
   "metadata": {},
   "outputs": [
    {
     "data": {
      "text/plain": [
       "['[',\n",
       " '[',\n",
       " 'a',\n",
       " ',',\n",
       " ' ',\n",
       " 'b',\n",
       " ',',\n",
       " ' ',\n",
       " 'c',\n",
       " ',',\n",
       " ' ',\n",
       " 'd',\n",
       " ',',\n",
       " ' ',\n",
       " 'e',\n",
       " ',',\n",
       " ' ',\n",
       " 'f',\n",
       " ',',\n",
       " ' ',\n",
       " 'b',\n",
       " ',',\n",
       " ' ',\n",
       " 'd',\n",
       " ',',\n",
       " ' ',\n",
       " 'c',\n",
       " ',',\n",
       " ' ',\n",
       " 'e',\n",
       " ',',\n",
       " ' ',\n",
       " 'g',\n",
       " ']',\n",
       " ',',\n",
       " '[',\n",
       " 'a',\n",
       " ',',\n",
       " ' ',\n",
       " 'b',\n",
       " ',',\n",
       " ' ',\n",
       " 'd',\n",
       " ',',\n",
       " ' ',\n",
       " 'c',\n",
       " ',',\n",
       " ' ',\n",
       " 'e',\n",
       " ',',\n",
       " ' ',\n",
       " 'g',\n",
       " ']',\n",
       " ',',\n",
       " '[',\n",
       " 'a',\n",
       " ',',\n",
       " ' ',\n",
       " 'b',\n",
       " ',',\n",
       " ' ',\n",
       " 'c',\n",
       " ',',\n",
       " ' ',\n",
       " 'd',\n",
       " ',',\n",
       " ' ',\n",
       " 'e',\n",
       " ',',\n",
       " ' ',\n",
       " 'f',\n",
       " ',',\n",
       " ' ',\n",
       " 'b',\n",
       " ',',\n",
       " ' ',\n",
       " 'c',\n",
       " ',',\n",
       " ' ',\n",
       " 'd',\n",
       " ',',\n",
       " ' ',\n",
       " 'e',\n",
       " ',',\n",
       " ' ',\n",
       " 'f',\n",
       " ',',\n",
       " ' ',\n",
       " 'b',\n",
       " ',',\n",
       " ' ',\n",
       " 'd',\n",
       " ',',\n",
       " ' ',\n",
       " 'c',\n",
       " ',',\n",
       " ' ',\n",
       " 'e',\n",
       " ',',\n",
       " ' ',\n",
       " 'g',\n",
       " ']',\n",
       " ']']"
      ]
     },
     "execution_count": 14,
     "metadata": {},
     "output_type": "execute_result"
    }
   ],
   "source": [
    "[str(l) for l in L]"
   ]
  },
  {
   "cell_type": "code",
   "execution_count": 9,
   "metadata": {},
   "outputs": [],
   "source": [
    "log2=[\n",
    "    ['a', 'b', 'd', 'e', 'g', 'i', 'j'], \n",
    "    ['a', 'b', 'e', 'd', 'h', 'i', 'j'], \n",
    "    ['a', 'b', 'f', 'd', 'g', 'i', 'j'], \n",
    "    ['a', 'b', 'f', 'g', 'd', 'i', 'j'], \n",
    "    ['a', 'b', 'g', 'd', 'f', 'i', 'j'],\n",
    "    ['a', 'b', 'd', 'f', 'h', 'i', 'c', 'b', 'e', 'h', 'd', 'i', 'j'], \n",
    "    ['a', 'b', 'g', 'f', 'd', 'i', 'c', 'b', 'h', 'f', 'd', 'i', 'j'], \n",
    "    ['a', 'b', 'h', 'e', 'd', 'i', 'c', 'b', 'd', 'g', 'e', 'i', 'j'],\n",
    "]"
   ]
  },
  {
   "cell_type": "code",
   "execution_count": 1,
   "metadata": {},
   "outputs": [],
   "source": [
    "import pandas as pd"
   ]
  },
  {
   "cell_type": "code",
   "execution_count": 115,
   "metadata": {},
   "outputs": [],
   "source": [
    "def footprint(trace) : \n",
    "    trace=list(set(trace))\n",
    "    trace.sort()\n",
    "    df=pd.DataFrame([['#']*len(trace) for a in trace],index = trace, columns=trace)\n",
    "    return df"
   ]
  },
  {
   "cell_type": "code",
   "execution_count": 116,
   "metadata": {},
   "outputs": [],
   "source": []
  },
  {
   "cell_type": "code",
   "execution_count": 123,
   "metadata": {},
   "outputs": [],
   "source": []
  },
  {
   "cell_type": "code",
   "execution_count": 301,
   "metadata": {},
   "outputs": [],
   "source": [
    "L1= [\n",
    "    [\"a\",\"d\",\"f\",\"h\"],                      #0\n",
    "    [\"a\",\"c\",\"e\",\"g\",\"c\",\"e\",\"h\"],          #1\n",
    "    [\"a\",\"d\",\"f\",\"g\",\"d\",\"f\",\"h\"],          #2\n",
    "    [\"a\",\"f\",\"g\",\"d\",\"f\",\"h\"]               #3\n",
    "]\n",
    "\n",
    "L2= [\n",
    "    [\"a\",\"b\",\"d\",\"e\",\"g\",\"i\",\"j\"],  #0\n",
    "    [\"a\",\"b\",\"e\",\"d\",\"h\",\"i\",\"j\"],  #1\n",
    "    [\"a\",\"b\",\"f\",\"d\",\"g\",\"i\",\"j\"],  #2\n",
    "    [\"a\",\"b\",\"f\",\"g\",\"d\",\"i\",\"j\"],  #3\n",
    "    [\"a\",\"b\",\"g\",\"d\",\"f\",\"i\",\"j\"],  #4\n",
    "    [\"a\",\"b\",\"d\",\"f\",\"h\",\"i\",\"c\",\"b\",\"e\",\"h\",\"d\",\"i\",\"j\"], #5 \n",
    "    [\"a\",\"b\",\"g\",\"f\",\"d\",\"i\",\"c\",\"b\",\"h\",\"f\",\"d\",\"i\",\"j\"], #6\n",
    "    [\"a\",\"b\",\"h\",\"e\",\"d\",\"i\",\"c\",\"b\",\"d\",\"g\",\"e\",\"i\",\"j\"], #7\n",
    "]"
   ]
  },
  {
   "cell_type": "code",
   "execution_count": null,
   "metadata": {},
   "outputs": [],
   "source": []
  },
  {
   "cell_type": "code",
   "execution_count": 291,
   "metadata": {},
   "outputs": [],
   "source": [
    "def writeFootPrint(df, trace) : \n",
    "    for i in range(len(trace)-1) : \n",
    "        p=(trace[i:i+2])\n",
    "        if df.loc[p[0],p[1]]=='#' : \n",
    "            df.loc[p[0],p[1]]='>'\n",
    "            df.loc[p[1],p[0]]='<'\n",
    "        elif df.loc[p[0],p[1]] =='<' :\n",
    "            df.loc[p[0],p[1]] = '||'\n",
    "            df.loc[p[1],p[0]] = '||'\n",
    "    return df"
   ]
  },
  {
   "cell_type": "code",
   "execution_count": 296,
   "metadata": {},
   "outputs": [],
   "source": [
    "T=L2"
   ]
  },
  {
   "cell_type": "code",
   "execution_count": null,
   "metadata": {},
   "outputs": [],
   "source": []
  },
  {
   "cell_type": "code",
   "execution_count": 297,
   "metadata": {},
   "outputs": [],
   "source": [
    "logs=[]\n",
    "for l in T : \n",
    "    logs+=l\n",
    "    \n",
    "activity=list(set(logs))\n",
    "activity.sort()"
   ]
  },
  {
   "cell_type": "code",
   "execution_count": 298,
   "metadata": {},
   "outputs": [],
   "source": [
    "complete=pd.DataFrame([['#']*len(activity) for a in activity],index = activity, columns=activity) \n",
    "for trace in T : \n",
    "    complete=writeFootPrint(df,trace)"
   ]
  },
  {
   "cell_type": "code",
   "execution_count": 299,
   "metadata": {},
   "outputs": [],
   "source": [
    "# T = sets of sequences, in multi level arrays \n",
    "#Extract the elements from the logs\n",
    "DF=[] \n",
    "\n",
    "for j in range(len(T)) : # 0 to 8\n",
    "    #initialization for the foot print consisting of only \"#\"\n",
    "    df=pd.DataFrame([['#']*len(activity) for a in activity],index = activity, columns=activity) \n",
    "    \n",
    "    for idx, trace in enumerate(T) : \n",
    "        if j==idx : continue #artfically, omitting one trace for each loop \n",
    "        #print(j,idx)    \n",
    "        df=writeFootPrint(df,trace)\n",
    "    DF.append(df)"
   ]
  },
  {
   "cell_type": "code",
   "execution_count": 300,
   "metadata": {},
   "outputs": [
    {
     "name": "stdout",
     "output_type": "stream",
     "text": [
      "2 same\n",
      "    a  b  c   d   e   f   g   h  i  j\n",
      "a  #  >  #   #   #   #   #   #  #  #\n",
      "b  <  #  <   >   >   >   >   >  #  #\n",
      "c  #  >  #   #   #   #   #   #  <  #\n",
      "d  #  <  #   #  ||  ||  ||  ||  >  #\n",
      "e  #  <  #  ||   #   #  ||  ||  >  #\n",
      "f  #  <  #  ||   #   #  ||  ||  >  #\n",
      "g  #  <  #  ||  ||  ||   #   #  >  #\n",
      "h  #  <  #  ||  ||  ||   #   #  >  #\n",
      "i  #  #  >   <   <   <   <   <  #  >\n",
      "j  #  #  #   #   #   #   #   #  <  #\n"
     ]
    }
   ],
   "source": [
    "for i, df in enumerate(DF) :\n",
    "    #print(complete==df)\n",
    "    comp=(complete!=df)\n",
    "    if sum(comp.sum(axis=1)) == 0 : \n",
    "        print(i,\"same\\n\", df, )"
   ]
  },
  {
   "cell_type": "code",
   "execution_count": 305,
   "metadata": {},
   "outputs": [
    {
     "data": {
      "text/html": [
       "<div>\n",
       "<style scoped>\n",
       "    .dataframe tbody tr th:only-of-type {\n",
       "        vertical-align: middle;\n",
       "    }\n",
       "\n",
       "    .dataframe tbody tr th {\n",
       "        vertical-align: top;\n",
       "    }\n",
       "\n",
       "    .dataframe thead th {\n",
       "        text-align: right;\n",
       "    }\n",
       "</style>\n",
       "<table border=\"1\" class=\"dataframe\">\n",
       "  <thead>\n",
       "    <tr style=\"text-align: right;\">\n",
       "      <th></th>\n",
       "      <th>a</th>\n",
       "      <th>b</th>\n",
       "      <th>c</th>\n",
       "      <th>d</th>\n",
       "      <th>e</th>\n",
       "      <th>f</th>\n",
       "      <th>g</th>\n",
       "      <th>h</th>\n",
       "      <th>i</th>\n",
       "      <th>j</th>\n",
       "    </tr>\n",
       "  </thead>\n",
       "  <tbody>\n",
       "    <tr>\n",
       "      <th>a</th>\n",
       "      <td>#</td>\n",
       "      <td>&gt;</td>\n",
       "      <td>#</td>\n",
       "      <td>#</td>\n",
       "      <td>#</td>\n",
       "      <td>#</td>\n",
       "      <td>#</td>\n",
       "      <td>#</td>\n",
       "      <td>#</td>\n",
       "      <td>#</td>\n",
       "    </tr>\n",
       "    <tr>\n",
       "      <th>b</th>\n",
       "      <td>&lt;</td>\n",
       "      <td>#</td>\n",
       "      <td>&lt;</td>\n",
       "      <td>&gt;</td>\n",
       "      <td>&gt;</td>\n",
       "      <td>&gt;</td>\n",
       "      <td>&gt;</td>\n",
       "      <td>&gt;</td>\n",
       "      <td>#</td>\n",
       "      <td>#</td>\n",
       "    </tr>\n",
       "    <tr>\n",
       "      <th>c</th>\n",
       "      <td>#</td>\n",
       "      <td>&gt;</td>\n",
       "      <td>#</td>\n",
       "      <td>#</td>\n",
       "      <td>#</td>\n",
       "      <td>#</td>\n",
       "      <td>#</td>\n",
       "      <td>#</td>\n",
       "      <td>&lt;</td>\n",
       "      <td>#</td>\n",
       "    </tr>\n",
       "    <tr>\n",
       "      <th>d</th>\n",
       "      <td>#</td>\n",
       "      <td>&lt;</td>\n",
       "      <td>#</td>\n",
       "      <td>#</td>\n",
       "      <td>||</td>\n",
       "      <td>||</td>\n",
       "      <td>||</td>\n",
       "      <td>||</td>\n",
       "      <td>&gt;</td>\n",
       "      <td>#</td>\n",
       "    </tr>\n",
       "    <tr>\n",
       "      <th>e</th>\n",
       "      <td>#</td>\n",
       "      <td>&lt;</td>\n",
       "      <td>#</td>\n",
       "      <td>||</td>\n",
       "      <td>#</td>\n",
       "      <td>#</td>\n",
       "      <td>&gt;</td>\n",
       "      <td>&gt;</td>\n",
       "      <td>#</td>\n",
       "      <td>#</td>\n",
       "    </tr>\n",
       "    <tr>\n",
       "      <th>f</th>\n",
       "      <td>#</td>\n",
       "      <td>&lt;</td>\n",
       "      <td>#</td>\n",
       "      <td>||</td>\n",
       "      <td>#</td>\n",
       "      <td>#</td>\n",
       "      <td>||</td>\n",
       "      <td>||</td>\n",
       "      <td>&gt;</td>\n",
       "      <td>#</td>\n",
       "    </tr>\n",
       "    <tr>\n",
       "      <th>g</th>\n",
       "      <td>#</td>\n",
       "      <td>&lt;</td>\n",
       "      <td>#</td>\n",
       "      <td>||</td>\n",
       "      <td>&lt;</td>\n",
       "      <td>||</td>\n",
       "      <td>#</td>\n",
       "      <td>#</td>\n",
       "      <td>&gt;</td>\n",
       "      <td>#</td>\n",
       "    </tr>\n",
       "    <tr>\n",
       "      <th>h</th>\n",
       "      <td>#</td>\n",
       "      <td>&lt;</td>\n",
       "      <td>#</td>\n",
       "      <td>||</td>\n",
       "      <td>&lt;</td>\n",
       "      <td>||</td>\n",
       "      <td>#</td>\n",
       "      <td>#</td>\n",
       "      <td>&gt;</td>\n",
       "      <td>#</td>\n",
       "    </tr>\n",
       "    <tr>\n",
       "      <th>i</th>\n",
       "      <td>#</td>\n",
       "      <td>#</td>\n",
       "      <td>&gt;</td>\n",
       "      <td>&lt;</td>\n",
       "      <td>#</td>\n",
       "      <td>&lt;</td>\n",
       "      <td>&lt;</td>\n",
       "      <td>&lt;</td>\n",
       "      <td>#</td>\n",
       "      <td>&gt;</td>\n",
       "    </tr>\n",
       "    <tr>\n",
       "      <th>j</th>\n",
       "      <td>#</td>\n",
       "      <td>#</td>\n",
       "      <td>#</td>\n",
       "      <td>#</td>\n",
       "      <td>#</td>\n",
       "      <td>#</td>\n",
       "      <td>#</td>\n",
       "      <td>#</td>\n",
       "      <td>&lt;</td>\n",
       "      <td>#</td>\n",
       "    </tr>\n",
       "  </tbody>\n",
       "</table>\n",
       "</div>"
      ],
      "text/plain": [
       "   a  b  c   d   e   f   g   h  i  j\n",
       "a  #  >  #   #   #   #   #   #  #  #\n",
       "b  <  #  <   >   >   >   >   >  #  #\n",
       "c  #  >  #   #   #   #   #   #  <  #\n",
       "d  #  <  #   #  ||  ||  ||  ||  >  #\n",
       "e  #  <  #  ||   #   #   >   >  #  #\n",
       "f  #  <  #  ||   #   #  ||  ||  >  #\n",
       "g  #  <  #  ||   <  ||   #   #  >  #\n",
       "h  #  <  #  ||   <  ||   #   #  >  #\n",
       "i  #  #  >   <   #   <   <   <  #  >\n",
       "j  #  #  #   #   #   #   #   #  <  #"
      ]
     },
     "execution_count": 305,
     "metadata": {},
     "output_type": "execute_result"
    }
   ],
   "source": [
    "df"
   ]
  },
  {
   "cell_type": "code",
   "execution_count": 308,
   "metadata": {},
   "outputs": [
    {
     "data": {
      "text/plain": [
       "a    #\n",
       "b    >\n",
       "c    #\n",
       "d    #\n",
       "e    #\n",
       "f    #\n",
       "g    #\n",
       "h    #\n",
       "i    #\n",
       "j    #\n",
       "Name: a, dtype: object"
      ]
     },
     "execution_count": 308,
     "metadata": {},
     "output_type": "execute_result"
    }
   ],
   "source": [
    "df.loc['a',:]"
   ]
  },
  {
   "cell_type": "code",
   "execution_count": null,
   "metadata": {},
   "outputs": [],
   "source": []
  }
 ],
 "metadata": {
  "kernelspec": {
   "display_name": "Python 3",
   "language": "python",
   "name": "python3"
  },
  "language_info": {
   "codemirror_mode": {
    "name": "ipython",
    "version": 3
   },
   "file_extension": ".py",
   "mimetype": "text/x-python",
   "name": "python",
   "nbconvert_exporter": "python",
   "pygments_lexer": "ipython3",
   "version": "3.7.3"
  }
 },
 "nbformat": 4,
 "nbformat_minor": 2
}
