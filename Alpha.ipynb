{
 "cells": [
  {
   "cell_type": "code",
   "execution_count": 1,
   "metadata": {},
   "outputs": [],
   "source": [
    "import pandas as pd\n",
    "import copy"
   ]
  },
  {
   "cell_type": "code",
   "execution_count": 2,
   "metadata": {},
   "outputs": [],
   "source": [
    "def footprint(activity) : \n",
    "    trace=list(set(activity))\n",
    "    trace.sort()\n",
    "    df=pd.DataFrame([['#']*len(activity) for a in activity],index = activity, columns=activity)\n",
    "    return df"
   ]
  },
  {
   "cell_type": "code",
   "execution_count": 3,
   "metadata": {},
   "outputs": [],
   "source": [
    "#depreciated by writeFootPrint2 (new version)\n",
    "def writeFootPrint(df, trace) :\n",
    "    for i in range(len(trace)-1) : \n",
    "        p=(trace[i:i+2])\n",
    "        if df.loc[p[0],p[1]]=='#' :\n",
    "            df.loc[p[0],p[1]]='>'\n",
    "            df.loc[p[1],p[0]]='<'\n",
    "        elif df.loc[p[0],p[1]] =='<' :\n",
    "            df.loc[p[0],p[1]] = '||'\n",
    "            df.loc[p[1],p[0]] = '||'\n",
    "    return df"
   ]
  },
  {
   "cell_type": "code",
   "execution_count": 4,
   "metadata": {},
   "outputs": [],
   "source": [
    "#the function for the single trace to create footprint \n",
    "def writeFootPrint2(direct_relation,parallel_relation, df, trace) :\n",
    "    for i in range(len(trace)-1) : \n",
    "        p=(trace[i:i+2])\n",
    "        #print(p)\n",
    "        \n",
    "        if df.loc[p[0],p[1]]=='#' :\n",
    "            df.loc[p[0],p[1]]='>'\n",
    "            df.loc[p[1],p[0]]='<'\n",
    "            direct_relation.append(p)\n",
    "        elif df.loc[p[0],p[1]] =='<' :\n",
    "            df.loc[p[0],p[1]] = '||'\n",
    "            df.loc[p[1],p[0]] = '||'\n",
    "            try :\n",
    "                direct_relation.remove(p)\n",
    "#               print(\"remove\",p)\n",
    "            except :\n",
    "                pass\n",
    "#                 print(\"error\")\n",
    "                \n",
    "            try :\n",
    "                p.reverse()\n",
    "                direct_relation.remove(p)\n",
    "                #print(\"remove -r \",p)\n",
    "                \n",
    "            except :\n",
    "                pass\n",
    "                #print(\"error-r\")    \n",
    "               \n",
    "            \n",
    "            parallel_relation.append(p)\n",
    "    return direct_relation, parallel_relation, df"
   ]
  },
  {
   "cell_type": "code",
   "execution_count": 5,
   "metadata": {
    "scrolled": false
   },
   "outputs": [],
   "source": [
    "#from the direct relationship, it creates merged relationship based on the footprint. \n",
    "def merge(candidate,complete) :\n",
    "    print(footprint)\n",
    "    candidate2=[]\n",
    "    for i in range(len(candidate)-1) :\n",
    "        j2=len(candidate)-1-i\n",
    "        for j in range(j2) :\n",
    "            a=candidate[j]\n",
    "            b=candidate[j2]\n",
    "            lhs=a[0]==b[0]\n",
    "            rhs=a[1]==b[1]\n",
    "#             print(j,j2, a, b, a[0]==b[0], a[1]==b[1])\n",
    "            if lhs:\n",
    "#                 print(\"lhs\",a,b)\n",
    "                p=list(\n",
    "                    (set(a[1]+b[1]) - set(a[1])) | \n",
    "                    (set(a[1]+b[1]) - set(b[1]))\n",
    "                    )\n",
    "#                 print(\"lhs - p\", p)\n",
    "                if (complete.loc[p[0],p[1]]) == '#' :\n",
    "                    m=list(set(a[1]) | set(b[1]))\n",
    "                    m.sort()\n",
    "                    item =  [a[0], (''.join(m))]\n",
    "#                     print(item, \"added lhs\")\n",
    "                    if item not in candidate2 : candidate2.append(item)\n",
    "            if rhs:\n",
    "#                 print(\"rhs\",a,b)\n",
    "                p=list(\n",
    "                    (set(a[0]+b[0]) - set(a[0])) | \n",
    "                    (set(a[0]+b[0]) - set(b[0]))\n",
    "                    )\n",
    "#                 print(\"rhs - p\", p)\n",
    "                if (complete.loc[p[0],p[1]]) == '#' :\n",
    "                    m=list(set(a[0]) | set(b[0]))\n",
    "                    m.sort()\n",
    "                    item =  [(''.join(m)), a[1]]\n",
    "#                     print(item, \"added rhs\")\n",
    "                    if item not in candidate2 : candidate2.append(item)\n",
    "    candidate2.sort()\n",
    "    return candidate2"
   ]
  },
  {
   "cell_type": "code",
   "execution_count": 6,
   "metadata": {},
   "outputs": [],
   "source": [
    "#LOG Preprocessing. From the format of the lecture \n",
    "def logProcessing(L) :\n",
    "    L=L.replace(\"<\", \"[\").replace(\">\",\"]\").replace(\",\",\"\").replace(\" \",\"\").replace(\"\\n\",\"\")[1:-1]\n",
    "    T=[]\n",
    "    for l in L : \n",
    "        if l==\"[\" : log=[]; continue\n",
    "        if l==\"]\" : T.append(log); log=[]; continue\n",
    "        log.append(l)\n",
    "    return T"
   ]
  },
  {
   "cell_type": "code",
   "execution_count": 27,
   "metadata": {},
   "outputs": [],
   "source": [
    "def createFootPrint(T) :\n",
    "        \n",
    "    logs=[]\n",
    "    for l in T : \n",
    "        logs+=l\n",
    "\n",
    "    activity=list(set(logs))\n",
    "    activity.sort()\n",
    "    df=footprint(activity)\n",
    "    \n",
    "    complete=pd.DataFrame([['#']*len(activity) for a in activity],index = activity, columns=activity) \n",
    "\n",
    "    \n",
    "    parallel_relation=[]\n",
    "    direct_relation=[]\n",
    "    for trace in T : \n",
    "        direct_relation, parallel_relation,complete=writeFootPrint2(direct_relation, parallel_relation, df,trace)\n",
    "    \n",
    "    \n",
    "    return activity, direct_relation, parallel_relation,complete"
   ]
  },
  {
   "cell_type": "code",
   "execution_count": 109,
   "metadata": {},
   "outputs": [],
   "source": [
    "def alpha(L) : \n",
    "    T=logProcessing(L)\n",
    "\n",
    "    activity, direct_relation, parallel_relation, complete = createFootPrint(T)\n",
    "    direct_relation.sort()\n",
    "\n",
    "    xl=copy.deepcopy(direct_relation)\n",
    "    data=copy.deepcopy(direct_relation)\n",
    "    while(True) :\n",
    "        result=merge(data,complete)\n",
    "        result.sort()\n",
    "    #     print(result)\n",
    "        if len(result)==0 : break\n",
    "        xl += result \n",
    "\n",
    "        data=result\n",
    "\n",
    "    yl=copy.deepcopy(xl)\n",
    "    xl.sort(key=lambda e : len(str(e[0]))*3 + len(str(e[1])),reverse=True)\n",
    "    for i in range(len(xl)) : \n",
    "        for j in range(i+1,len(xl)):\n",
    "            l1=set(list(\"\".join(xl[i][0])))\n",
    "            l2=set(list(\"\".join(xl[j][0])))\n",
    "            r1=set(list(\"\".join(xl[i][1])))\n",
    "            r2=set(list(\"\".join(xl[j][1])))\n",
    "            \n",
    "#             print(l1,l2,r1,r2)\n",
    "            if (l1==l2 or r1==r2): \n",
    "                if (l2.issubset(l1) and l2!=l1) or (r2.issubset(r1) and r2!=r1) : \n",
    "                    print(xl[i],xl[j])\n",
    "                    try : \n",
    "                        yl.remove(xl[j])\n",
    "                    except :\n",
    "                        pass\n",
    "    yl.sort(key=lambda x : len(str(x)))\n",
    "\n",
    "    return complete, xl, yl"
   ]
  },
  {
   "cell_type": "code",
   "execution_count": null,
   "metadata": {},
   "outputs": [],
   "source": []
  },
  {
   "cell_type": "markdown",
   "metadata": {},
   "source": [
    "## Comparision"
   ]
  },
  {
   "cell_type": "code",
   "execution_count": 124,
   "metadata": {},
   "outputs": [],
   "source": [
    "# T = sets of sequences, in multi level arrays \n",
    "#Extract the elements from the logs\n",
    "T=logProcessing(L_ass2)\n",
    "activity, direct_relation, parallel_relation, complete = createFootPrint(T)\n",
    "DF=[] \n",
    "\n",
    "for j in range(len(T)) : # 0 to 8\n",
    "    #initialization for the foot print consisting of only \"#\"\n",
    "    df=pd.DataFrame([['#']*len(activity) for a in activity],index = activity, columns=activity) \n",
    "    \n",
    "    for idx, trace in enumerate(T) : \n",
    "        if j==idx : continue #artfically, omitting one trace for each loop \n",
    "        #print(j,idx)    \n",
    "        df=writeFootPrint(df,trace)\n",
    "    DF.append(df)"
   ]
  },
  {
   "cell_type": "code",
   "execution_count": 125,
   "metadata": {},
   "outputs": [
    {
     "name": "stdout",
     "output_type": "stream",
     "text": [
      "2 same\n",
      "    a  b  c   d   e   f   g   h  i  j\n",
      "a  #  >  #   #   #   #   #   #  #  #\n",
      "b  <  #  <   >   >   >   >   >  #  #\n",
      "c  #  >  #   #   #   #   #   #  <  #\n",
      "d  #  <  #   #  ||  ||  ||  ||  >  #\n",
      "e  #  <  #  ||   #   #  ||  ||  >  #\n",
      "f  #  <  #  ||   #   #  ||  ||  >  #\n",
      "g  #  <  #  ||  ||  ||   #   #  >  #\n",
      "h  #  <  #  ||  ||  ||   #   #  >  #\n",
      "i  #  #  >   <   <   <   <   <  #  >\n",
      "j  #  #  #   #   #   #   #   #  <  #\n"
     ]
    }
   ],
   "source": [
    "for i, df in enumerate(DF) :\n",
    "    #print(complete==df)\n",
    "    comp=(complete!=df)\n",
    "    if sum(comp.sum(axis=1)) == 0 : \n",
    "        print(i,\"same\\n\", df, )"
   ]
  },
  {
   "cell_type": "code",
   "execution_count": null,
   "metadata": {},
   "outputs": [],
   "source": [
    "complete"
   ]
  },
  {
   "cell_type": "markdown",
   "metadata": {},
   "source": [
    "# Above do not touch\n"
   ]
  },
  {
   "cell_type": "code",
   "execution_count": 88,
   "metadata": {},
   "outputs": [],
   "source": [
    "#assign 5-L1\n",
    "L_ass1= '''\n",
    "[\n",
    "<a, d, f, h>, \n",
    "<a, c, e, g, c, e, h>, \n",
    "<a, d, f, g, d, f, h>, \n",
    "<a, f, g, d, f, h>\n",
    "]\n",
    "'''\n",
    "\n"
   ]
  },
  {
   "cell_type": "code",
   "execution_count": 89,
   "metadata": {},
   "outputs": [],
   "source": [
    "#Assign 5-L2\n",
    "L_ass2='''\n",
    "[<a, b, d, e, g, i, j>, <a, b, e, d, h, i, j>, <a, b, f, d, g, i, j>, <a, b, f, g, d, i, j>, <a, b, g, d, f, i, j>,\n",
    "<a, b, d, f, h, i, c, b, e, h, d, i, j>, <a, b, g, f, d, i, c, b, h, f, d, i, j>, <a, b, h, e, d, i, c, b, d, g, e, i, j>\n",
    "]\n",
    "'''"
   ]
  },
  {
   "cell_type": "code",
   "execution_count": 11,
   "metadata": {},
   "outputs": [],
   "source": [
    "#Exercise 4-1\n",
    "L1 = '''[< a, b, c >, < a, c >]''' #checked"
   ]
  },
  {
   "cell_type": "code",
   "execution_count": 12,
   "metadata": {},
   "outputs": [],
   "source": [
    "#Exercise 4-2\n",
    "L2=''' [<a, b, c, d, e, f, b, d, c, e, g>,\n",
    "<a, b, d, c, e, g>,\n",
    "<a, b, c, d, e, f, b, c, d, e, f, b, d, c, e, g>]'''#checked"
   ]
  },
  {
   "cell_type": "code",
   "execution_count": 13,
   "metadata": {},
   "outputs": [],
   "source": [
    "#Exercise 4-3\n",
    "L3 =''' \n",
    "[<a, b, e, f>,\n",
    "<a, b, e, c, d, b, f>,\n",
    "<a, b, c, e, d, b, f> , \n",
    "<a, b, c, d, e, b, f>,\n",
    "<a, e, b, c, d, b, f> \n",
    "]''' #Checked"
   ]
  },
  {
   "cell_type": "code",
   "execution_count": 14,
   "metadata": {},
   "outputs": [],
   "source": [
    "#Exercise 4-4\n",
    "L4 ='''\n",
    "[<a, d, e, f, h>,\n",
    "<a, e, d, f, h>,\n",
    "<g, h>,\n",
    "<a, b, c, d, f, h>,\n",
    "<a, c, b, d, f, h>,\n",
    "<a, b, d, c, f, h>,\n",
    "<a, c, d, b, f, h>]'''"
   ]
  },
  {
   "cell_type": "code",
   "execution_count": 15,
   "metadata": {},
   "outputs": [],
   "source": [
    "#Exercise 4-5\n",
    "L5 ='''\n",
    "[<a, d, f, h>,\n",
    "<a, c, e, g, c, e, h>,\n",
    "<b, f, g, d, f, h>]'''"
   ]
  },
  {
   "cell_type": "code",
   "execution_count": 16,
   "metadata": {},
   "outputs": [],
   "source": [
    "#Exercise 4-6-1\n",
    "L6_1 = '''[<a, b, c>, <e, b, c>, <e, b, d>, <e, b, f>, <a, b, d>, <a, b, f>]'''"
   ]
  },
  {
   "cell_type": "code",
   "execution_count": 17,
   "metadata": {},
   "outputs": [],
   "source": [
    "#Exercise 4-6-2\n",
    "L6_2 = '''[<a, b, c>, <e, b, f>, <a, b, d>]'''"
   ]
  },
  {
   "cell_type": "code",
   "execution_count": 115,
   "metadata": {},
   "outputs": [
    {
     "name": "stdout",
     "output_type": "stream",
     "text": [
      "<function footprint at 0x7f870dce4d08>\n",
      "<function footprint at 0x7f870dce4d08>\n",
      "['ac', 'b'] ['a', 'b']\n",
      "['ac', 'b'] ['c', 'b']\n",
      "['ef', 'i'] ['e', 'i']\n",
      "['ef', 'i'] ['f', 'i']\n",
      "['gh', 'i'] ['g', 'i']\n",
      "['gh', 'i'] ['h', 'i']\n",
      "['b', 'ef'] ['b', 'e']\n",
      "['b', 'ef'] ['b', 'f']\n",
      "['b', 'gh'] ['b', 'g']\n",
      "['b', 'gh'] ['b', 'h']\n",
      "['i', 'cj'] ['i', 'c']\n",
      "['i', 'cj'] ['i', 'j']\n"
     ]
    }
   ],
   "source": [
    "fp, xl, yl = alpha(L_ass2)"
   ]
  },
  {
   "cell_type": "code",
   "execution_count": 116,
   "metadata": {},
   "outputs": [],
   "source": [
    "xl.sort(key=lambda x : len(str(x[0]))*9 + len(str(x[1])))"
   ]
  },
  {
   "cell_type": "code",
   "execution_count": 117,
   "metadata": {},
   "outputs": [
    {
     "data": {
      "text/plain": [
       "[['a', 'b'],\n",
       " ['b', 'd'],\n",
       " ['b', 'e'],\n",
       " ['b', 'f'],\n",
       " ['b', 'g'],\n",
       " ['b', 'h'],\n",
       " ['c', 'b'],\n",
       " ['d', 'i'],\n",
       " ['e', 'i'],\n",
       " ['f', 'i'],\n",
       " ['g', 'i'],\n",
       " ['h', 'i'],\n",
       " ['i', 'c'],\n",
       " ['i', 'j'],\n",
       " ['b', 'ef'],\n",
       " ['b', 'gh'],\n",
       " ['i', 'cj'],\n",
       " ['ac', 'b'],\n",
       " ['ef', 'i'],\n",
       " ['gh', 'i']]"
      ]
     },
     "execution_count": 117,
     "metadata": {},
     "output_type": "execute_result"
    }
   ],
   "source": [
    "xl"
   ]
  },
  {
   "cell_type": "code",
   "execution_count": 118,
   "metadata": {},
   "outputs": [
    {
     "data": {
      "text/plain": [
       "[['b', 'd'],\n",
       " ['d', 'i'],\n",
       " ['ac', 'b'],\n",
       " ['b', 'ef'],\n",
       " ['b', 'gh'],\n",
       " ['ef', 'i'],\n",
       " ['gh', 'i'],\n",
       " ['i', 'cj']]"
      ]
     },
     "execution_count": 118,
     "metadata": {},
     "output_type": "execute_result"
    }
   ],
   "source": [
    "yl"
   ]
  },
  {
   "cell_type": "code",
   "execution_count": 119,
   "metadata": {},
   "outputs": [
    {
     "data": {
      "text/html": [
       "<div>\n",
       "<style scoped>\n",
       "    .dataframe tbody tr th:only-of-type {\n",
       "        vertical-align: middle;\n",
       "    }\n",
       "\n",
       "    .dataframe tbody tr th {\n",
       "        vertical-align: top;\n",
       "    }\n",
       "\n",
       "    .dataframe thead th {\n",
       "        text-align: right;\n",
       "    }\n",
       "</style>\n",
       "<table border=\"1\" class=\"dataframe\">\n",
       "  <thead>\n",
       "    <tr style=\"text-align: right;\">\n",
       "      <th></th>\n",
       "      <th>a</th>\n",
       "      <th>b</th>\n",
       "      <th>c</th>\n",
       "      <th>d</th>\n",
       "      <th>e</th>\n",
       "      <th>f</th>\n",
       "      <th>g</th>\n",
       "      <th>h</th>\n",
       "      <th>i</th>\n",
       "      <th>j</th>\n",
       "    </tr>\n",
       "  </thead>\n",
       "  <tbody>\n",
       "    <tr>\n",
       "      <th>a</th>\n",
       "      <td>#</td>\n",
       "      <td>&gt;</td>\n",
       "      <td>#</td>\n",
       "      <td>#</td>\n",
       "      <td>#</td>\n",
       "      <td>#</td>\n",
       "      <td>#</td>\n",
       "      <td>#</td>\n",
       "      <td>#</td>\n",
       "      <td>#</td>\n",
       "    </tr>\n",
       "    <tr>\n",
       "      <th>b</th>\n",
       "      <td>&lt;</td>\n",
       "      <td>#</td>\n",
       "      <td>&lt;</td>\n",
       "      <td>&gt;</td>\n",
       "      <td>&gt;</td>\n",
       "      <td>&gt;</td>\n",
       "      <td>&gt;</td>\n",
       "      <td>&gt;</td>\n",
       "      <td>#</td>\n",
       "      <td>#</td>\n",
       "    </tr>\n",
       "    <tr>\n",
       "      <th>c</th>\n",
       "      <td>#</td>\n",
       "      <td>&gt;</td>\n",
       "      <td>#</td>\n",
       "      <td>#</td>\n",
       "      <td>#</td>\n",
       "      <td>#</td>\n",
       "      <td>#</td>\n",
       "      <td>#</td>\n",
       "      <td>&lt;</td>\n",
       "      <td>#</td>\n",
       "    </tr>\n",
       "    <tr>\n",
       "      <th>d</th>\n",
       "      <td>#</td>\n",
       "      <td>&lt;</td>\n",
       "      <td>#</td>\n",
       "      <td>#</td>\n",
       "      <td>||</td>\n",
       "      <td>||</td>\n",
       "      <td>||</td>\n",
       "      <td>||</td>\n",
       "      <td>&gt;</td>\n",
       "      <td>#</td>\n",
       "    </tr>\n",
       "    <tr>\n",
       "      <th>e</th>\n",
       "      <td>#</td>\n",
       "      <td>&lt;</td>\n",
       "      <td>#</td>\n",
       "      <td>||</td>\n",
       "      <td>#</td>\n",
       "      <td>#</td>\n",
       "      <td>||</td>\n",
       "      <td>||</td>\n",
       "      <td>&gt;</td>\n",
       "      <td>#</td>\n",
       "    </tr>\n",
       "    <tr>\n",
       "      <th>f</th>\n",
       "      <td>#</td>\n",
       "      <td>&lt;</td>\n",
       "      <td>#</td>\n",
       "      <td>||</td>\n",
       "      <td>#</td>\n",
       "      <td>#</td>\n",
       "      <td>||</td>\n",
       "      <td>||</td>\n",
       "      <td>&gt;</td>\n",
       "      <td>#</td>\n",
       "    </tr>\n",
       "    <tr>\n",
       "      <th>g</th>\n",
       "      <td>#</td>\n",
       "      <td>&lt;</td>\n",
       "      <td>#</td>\n",
       "      <td>||</td>\n",
       "      <td>||</td>\n",
       "      <td>||</td>\n",
       "      <td>#</td>\n",
       "      <td>#</td>\n",
       "      <td>&gt;</td>\n",
       "      <td>#</td>\n",
       "    </tr>\n",
       "    <tr>\n",
       "      <th>h</th>\n",
       "      <td>#</td>\n",
       "      <td>&lt;</td>\n",
       "      <td>#</td>\n",
       "      <td>||</td>\n",
       "      <td>||</td>\n",
       "      <td>||</td>\n",
       "      <td>#</td>\n",
       "      <td>#</td>\n",
       "      <td>&gt;</td>\n",
       "      <td>#</td>\n",
       "    </tr>\n",
       "    <tr>\n",
       "      <th>i</th>\n",
       "      <td>#</td>\n",
       "      <td>#</td>\n",
       "      <td>&gt;</td>\n",
       "      <td>&lt;</td>\n",
       "      <td>&lt;</td>\n",
       "      <td>&lt;</td>\n",
       "      <td>&lt;</td>\n",
       "      <td>&lt;</td>\n",
       "      <td>#</td>\n",
       "      <td>&gt;</td>\n",
       "    </tr>\n",
       "    <tr>\n",
       "      <th>j</th>\n",
       "      <td>#</td>\n",
       "      <td>#</td>\n",
       "      <td>#</td>\n",
       "      <td>#</td>\n",
       "      <td>#</td>\n",
       "      <td>#</td>\n",
       "      <td>#</td>\n",
       "      <td>#</td>\n",
       "      <td>&lt;</td>\n",
       "      <td>#</td>\n",
       "    </tr>\n",
       "  </tbody>\n",
       "</table>\n",
       "</div>"
      ],
      "text/plain": [
       "   a  b  c   d   e   f   g   h  i  j\n",
       "a  #  >  #   #   #   #   #   #  #  #\n",
       "b  <  #  <   >   >   >   >   >  #  #\n",
       "c  #  >  #   #   #   #   #   #  <  #\n",
       "d  #  <  #   #  ||  ||  ||  ||  >  #\n",
       "e  #  <  #  ||   #   #  ||  ||  >  #\n",
       "f  #  <  #  ||   #   #  ||  ||  >  #\n",
       "g  #  <  #  ||  ||  ||   #   #  >  #\n",
       "h  #  <  #  ||  ||  ||   #   #  >  #\n",
       "i  #  #  >   <   <   <   <   <  #  >\n",
       "j  #  #  #   #   #   #   #   #  <  #"
      ]
     },
     "execution_count": 119,
     "metadata": {},
     "output_type": "execute_result"
    }
   ],
   "source": [
    "fp"
   ]
  },
  {
   "cell_type": "code",
   "execution_count": 120,
   "metadata": {},
   "outputs": [
    {
     "data": {
      "text/plain": [
       "[['a', 'b'],\n",
       " ['b', 'd'],\n",
       " ['g', 'i'],\n",
       " ['i', 'j'],\n",
       " ['b', 'e'],\n",
       " ['h', 'i'],\n",
       " ['b', 'f'],\n",
       " ['d', 'i'],\n",
       " ['b', 'g'],\n",
       " ['f', 'i'],\n",
       " ['i', 'c'],\n",
       " ['c', 'b'],\n",
       " ['b', 'h'],\n",
       " ['e', 'i']]"
      ]
     },
     "execution_count": 120,
     "metadata": {},
     "output_type": "execute_result"
    }
   ],
   "source": [
    "direct_relation"
   ]
  },
  {
   "cell_type": "code",
   "execution_count": 121,
   "metadata": {},
   "outputs": [
    {
     "data": {
      "text/plain": [
       "[['d', 'e'],\n",
       " ['d', 'g'],\n",
       " ['f', 'd'],\n",
       " ['d', 'h'],\n",
       " ['f', 'g'],\n",
       " ['f', 'h'],\n",
       " ['e', 'h'],\n",
       " ['e', 'g']]"
      ]
     },
     "execution_count": 121,
     "metadata": {},
     "output_type": "execute_result"
    }
   ],
   "source": [
    "parallel_relation"
   ]
  },
  {
   "cell_type": "code",
   "execution_count": null,
   "metadata": {},
   "outputs": [],
   "source": []
  }
 ],
 "metadata": {
  "kernelspec": {
   "display_name": "Python 3",
   "language": "python",
   "name": "python3"
  },
  "language_info": {
   "codemirror_mode": {
    "name": "ipython",
    "version": 3
   },
   "file_extension": ".py",
   "mimetype": "text/x-python",
   "name": "python",
   "nbconvert_exporter": "python",
   "pygments_lexer": "ipython3",
   "version": "3.7.3"
  }
 },
 "nbformat": 4,
 "nbformat_minor": 2
}
