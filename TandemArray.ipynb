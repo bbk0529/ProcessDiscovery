{
 "cells": [
  {
   "cell_type": "code",
   "execution_count": 17,
   "metadata": {},
   "outputs": [],
   "source": [
    "import pm4py\n",
    "import re\n",
    "from operator import itemgetter"
   ]
  },
  {
   "cell_type": "code",
   "execution_count": 18,
   "metadata": {},
   "outputs": [],
   "source": [
    "def listSearch(T,keyword, start=0):\n",
    "    try :\n",
    "        idx = T.index(keyword,start)\n",
    "    except : \n",
    "        return []\n",
    "    return [idx] + listSearch(T,keyword,idx+1)"
   ]
  },
  {
   "cell_type": "code",
   "execution_count": 20,
   "metadata": {},
   "outputs": [],
   "source": [
    "def maximalTandemArray(T) :\n",
    "    deleteidx = []\n",
    "    comparision = [0,'',0,0]\n",
    "    T.sort(key=itemgetter(1,0))\n",
    "    for idx, item in enumerate(T) : \n",
    "        #print(idx, comparision, item)\n",
    "        if ((comparision[1] == item[1]) & (comparision[3]==item[3])) : #if trace is equal\n",
    "            #print(\"equal\")\n",
    "            if (comparision[0] <= item[0]) & (comparision[3]==item[3]) :\n",
    "                #print(comparision[0] <= item[0],  comparision[3]==item[3], \"delete\", idx)\n",
    "                deleteidx.append(idx)\n",
    "        else : #if trace is not equal\n",
    "            comparision = item #current item to be inserted into comparision\n",
    "            #print(\"false, change comparision\", item)\n",
    "    #end for   \n",
    "    deleteidx=list(set(deleteidx))\n",
    "    deleteidx.sort()\n",
    "    deleteidx.reverse()\n",
    "    #print(deleteidx)\n",
    "    for k in deleteidx : \n",
    "        #print(k, \"delete\", T[k])\n",
    "        del T[k]\n",
    "    \n",
    "    return T"
   ]
  },
  {
   "cell_type": "code",
   "execution_count": 21,
   "metadata": {},
   "outputs": [],
   "source": [
    "def extractPrimitiveTandemArray (tandemarray) : \n",
    "    repeatedType=[]\n",
    "    toDelete=[]\n",
    "    for i in tandemarray : \n",
    "        repeatedType.append(i[1])\n",
    "\n",
    "    for i in range(len(repeatedType)) :\n",
    "        reg='(' + str(repeatedType[i])+',?' + ')' + '{2,}'\n",
    "        p=re.compile(reg)\n",
    "#         print(\"regular expresss\", reg)\n",
    "        for j in range(i+1, len(repeatedType)) :\n",
    "#             print(\"i\", repeatedType[i], \"j\", repeatedType[j])\n",
    "#             print(p.match(repeatedType[j]))\n",
    "            if (\n",
    "                ((p.match(repeatedType[j]))!=None ) & \n",
    "                (repeatedType[i]!=repeatedType[j])\n",
    "            ): #if the pattern exists by comparision using RegularExpression\n",
    "#                 print(repeatedType[i],'\\t' , repeatedType[j], '\\t',j)\n",
    "                toDelete.append(j)\n",
    "    toDelete=list(set(toDelete))\n",
    "    toDelete.sort()\n",
    "    toDelete.reverse()\n",
    "    #print(toDelete)\n",
    "    for k in toDelete : \n",
    "#         print(k, \"delete\", tandemarray[k])\n",
    "        del tandemarray[k]\n",
    "    \n",
    "    return tandemarray"
   ]
  },
  {
   "cell_type": "code",
   "execution_count": 30,
   "metadata": {},
   "outputs": [],
   "source": [
    "def tandemArray(T) : \n",
    "    total=[]\n",
    "    readT=[]\n",
    "    print(T)\n",
    "    for currentPosition in range(len(T)): #current position moves from the left to the right by 1\n",
    "        #print(\"=\"*100)\n",
    "        #print(\"readT\", readT,\"current\", T[currentPosition])\n",
    "        indices=listSearch(readT,T[currentPosition])\n",
    "        #print(\"indices\", indices)\n",
    "        \n",
    "        for s in indices :\n",
    "            pattern=readT[s:currentPosition]\n",
    "            length = currentPosition-s\n",
    "#             print(\"pattern to be searched\", pattern, s, s+length-1)\n",
    "            position = currentPosition\n",
    "            c=0\n",
    "            while True :\n",
    "                if pattern  == T[position:position+length] : \n",
    "#                     print(\"\\tFOUND : \", position, position + length-1, T[position:position+length])\n",
    "                    c+=1\n",
    "                    position +=length\n",
    "                else :\n",
    "                    if c>0 : total.append(\n",
    "                        [s,','.join(pattern),c+1, s+len(pattern)*(c+1)-1 ]\n",
    "                    )\n",
    "                    break\n",
    "        readT.append(T[currentPosition])\n",
    "    print(\"=\"*100,\"\\n\", \"original tandem array\\n\",\"=\"*100)\n",
    "    print(total) \n",
    "    total=maximalTandemArray(total)\n",
    "    print(\"=\"*100,\"\\n\", \"maximal tandem array only\\n\", \"=\"*100)\n",
    "    print(total)\n",
    "    total=extractPrimitiveTandemArray(total)\n",
    "    print(\"=\"*100,\"\\n\", \"primitive tandem array\\n\", \"=\"*100)\n",
    "    print(total)    \n",
    "    return total"
   ]
  },
  {
   "cell_type": "code",
   "execution_count": 33,
   "metadata": {},
   "outputs": [],
   "source": [
    "T='gdabcabcabcabcafica'"
   ]
  },
  {
   "cell_type": "code",
   "execution_count": 35,
   "metadata": {},
   "outputs": [],
   "source": [
    "t1=[t for t in T]"
   ]
  },
  {
   "cell_type": "code",
   "execution_count": 31,
   "metadata": {},
   "outputs": [],
   "source": [
    "T1=['g','d','a','b','c','a','b','c','a','b','c','a','b','c','a','f','i','c','a','a','b','c','a','b','c','a','b','c','a','b','c']\n",
    "T2=['a','b','a','b','a','b','a','b','c','d','a','b','c','d','a','b','a','b','c','d','a','b']"
   ]
  },
  {
   "cell_type": "code",
   "execution_count": 36,
   "metadata": {},
   "outputs": [
    {
     "name": "stdout",
     "output_type": "stream",
     "text": [
      "['g', 'd', 'a', 'b', 'c', 'a', 'b', 'c', 'a', 'b', 'c', 'a', 'b', 'c', 'a', 'f', 'i', 'c', 'a']\n",
      "==================================================================================================== \n",
      " original tandem array\n",
      " ====================================================================================================\n",
      "[[2, 'a,b,c', 4, 13], [3, 'b,c,a', 4, 14], [4, 'c,a,b', 3, 12], [2, 'a,b,c,a,b,c', 2, 13], [5, 'a,b,c', 3, 13], [3, 'b,c,a,b,c,a', 2, 14], [6, 'b,c,a', 3, 14], [7, 'c,a,b', 2, 12], [8, 'a,b,c', 2, 13], [9, 'b,c,a', 2, 14]]\n",
      "==================================================================================================== \n",
      " maximal tandem array only\n",
      " ====================================================================================================\n",
      "[[2, 'a,b,c', 4, 13], [2, 'a,b,c,a,b,c', 2, 13], [3, 'b,c,a', 4, 14], [3, 'b,c,a,b,c,a', 2, 14], [4, 'c,a,b', 3, 12]]\n",
      "==================================================================================================== \n",
      " primitive tandem array\n",
      " ====================================================================================================\n",
      "[[2, 'a,b,c', 4, 13], [3, 'b,c,a', 4, 14], [4, 'c,a,b', 3, 12]]\n"
     ]
    }
   ],
   "source": [
    "a=tandemArray(t1)"
   ]
  },
  {
   "cell_type": "code",
   "execution_count": null,
   "metadata": {},
   "outputs": [],
   "source": []
  }
 ],
 "metadata": {
  "kernelspec": {
   "display_name": "Python 3",
   "language": "python",
   "name": "python3"
  },
  "language_info": {
   "codemirror_mode": {
    "name": "ipython",
    "version": 3
   },
   "file_extension": ".py",
   "mimetype": "text/x-python",
   "name": "python",
   "nbconvert_exporter": "python",
   "pygments_lexer": "ipython3",
   "version": "3.7.3"
  }
 },
 "nbformat": 4,
 "nbformat_minor": 2
}
